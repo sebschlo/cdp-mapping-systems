{
 "cells": [
  {
   "cell_type": "code",
   "execution_count": null,
   "metadata": {},
   "outputs": [],
   "source": [
    "%matplotlib ipympl\n",
    "\n",
    "import pyogrio as ogr\n",
    "import matplotlib.pyplot as plt\n",
    "from shapely.geometry import Polygon\n",
    "import geopandas as gpd\n",
    "from lonboard import Map, PolygonLayer\n",
    "from lonboard.colormap import apply_categorical_cmap\n",
    "import contextily as ctx\n",
    "import pandas as pd\n",
    "import seaborn as sns\n",
    "import numpy as np"
   ]
  },
  {
   "cell_type": "code",
   "execution_count": null,
   "metadata": {},
   "outputs": [],
   "source": [
    "photo_locs = ogr.read_dataframe(\n",
    "    \"/Users/sebastian/Locals/CDP/Data/photo_locations.csv\"\n",
    ")\n",
    "photo_locs['geometry'] = gpd.points_from_xy(photo_locs.longitude, photo_locs.latitude)\n",
    "photo_locs = gpd.GeoDataFrame(photo_locs, geometry='geometry')"
   ]
  },
  {
   "cell_type": "code",
   "execution_count": null,
   "metadata": {},
   "outputs": [],
   "source": [
    "\n",
    "\n",
    "ax = photo_locs.plot()\n",
    "ctx.add_basemap(ax, source=ctx.providers.OpenStreetMap.Mapnik, crs='EPSG:4326')\n",
    "ax.set_axis_off()"
   ]
  },
  {
   "cell_type": "code",
   "execution_count": null,
   "metadata": {},
   "outputs": [],
   "source": [
    "df_goog = pd.read_json('/Users/sebastian/Locals/CDP/Data/location-history.json')"
   ]
  },
  {
   "cell_type": "code",
   "execution_count": null,
   "metadata": {},
   "outputs": [],
   "source": [
    "len(df_goog)"
   ]
  },
  {
   "cell_type": "code",
   "execution_count": null,
   "metadata": {},
   "outputs": [],
   "source": [
    "df_goog['visit_lat'] = df_goog['visit'].map(lambda x: float(x.get('topCandidate', {}).get('placeLocation', '').split(':')[1].split(',')[0]) if pd.notna(x) else None)\n",
    "df_goog['visit_lon'] = df_goog['visit'].map(lambda x: float(x.get('topCandidate', {}).get('placeLocation', '').split(':')[1].split(',')[1]) if pd.notna(x) else None)\n",
    "\n",
    "# {\n",
    "#     \"hierarchyLevel\": \"0\",\n",
    "#     \"topCandidate\": {\n",
    "#         \"probability\": \"0.378811\",\n",
    "#         \"semanticType\": \"Unknown\",\n",
    "#         \"placeID\": \"ChIJpXnRDVTdrIkRIsD45T_bFg0\",\n",
    "#         \"placeLocation\": \"geo:35.936674,-79.024357\",\n",
    "#     },\n",
    "#     \"probability\": \"0.650000\",\n",
    "# }"
   ]
  },
  {
   "cell_type": "code",
   "execution_count": null,
   "metadata": {},
   "outputs": [],
   "source": [
    "fig, ax = plt.subplots()\n",
    "ax.scatter(df_goog['visit_lon'], df_goog['visit_lat'], alpha=0.5, c='red', edgecolors='none')\n",
    "ax.set_title('Visit Locations')\n",
    "ax.set_xlabel('Longitude')\n",
    "ax.set_ylabel('Latitude')\n",
    "plt.show()\n",
    "ctx.add_basemap(ax, source=ctx.providers.OpenStreetMap.Mapnik, crs='EPSG:4326')\n",
    "ax.set_axis_off()\n"
   ]
  },
  {
   "cell_type": "code",
   "execution_count": null,
   "metadata": {},
   "outputs": [],
   "source": [
    "# {\n",
    "#     \"end\": \"geo:39.923785,-75.146028\",\n",
    "#     \"topCandidate\": {\"type\": \"unknown\", \"probability\": \"0.000000\"},\n",
    "#     \"distanceMeters\": \"4975.540039\",\n",
    "#     \"start\": \"geo:39.952406,-75.190887\",\n",
    "# }\n",
    "import matplotlib.pyplot as plt\n",
    "\n",
    "# Extract start and end coordinates from the 'activity' key in the df_goog dataframe\n",
    "df_goog['start_lat'] = df_goog['activity'].map(lambda x: float(x.get('start', '').split(':')[1].split(',')[0]) if pd.notna(x) else None)\n",
    "df_goog['start_lon'] = df_goog['activity'].map(lambda x: float(x.get('start', '').split(':')[1].split(',')[1]) if pd.notna(x) else None)\n",
    "df_goog['end_lat'] = df_goog['activity'].map(lambda x: float(x.get('end', '').split(':')[1].split(',')[0]) if pd.notna(x) else None)\n",
    "df_goog['end_lon'] = df_goog['activity'].map(lambda x: float(x.get('end', '').split(':')[1].split(',')[1]) if pd.notna(x) else None)\n",
    "\n",
    "# Plot the lines with arrows on the map for the whole dataset\n",
    "fig, ax = plt.subplots()\n",
    "for i, row in df_goog.iterrows():\n",
    "    if pd.notna(row['start_lat']) and pd.notna(row['start_lon']) and pd.notna(row['end_lat']) and pd.notna(row['end_lon']):\n",
    "        ax.quiver(row['start_lon'], row['start_lat'], row['end_lon'] - row['start_lon'], row['end_lat'] - row['start_lat'], \n",
    "                  angles='xy', scale_units='xy', scale=1, color='blue', alpha=0.5)\n",
    "\n",
    "ax.set_title('Routes from Start to End')\n",
    "ax.set_xlabel('Longitude')\n",
    "ax.set_ylabel('Latitude')\n",
    "plt.show()\n",
    "ctx.add_basemap(ax, source=ctx.providers.OpenStreetMap.Mapnik, crs='EPSG:4326')\n",
    "ax.set_axis_off()\n",
    "\n",
    "\n"
   ]
  },
  {
   "cell_type": "code",
   "execution_count": null,
   "metadata": {},
   "outputs": [],
   "source": [
    "\n",
    "# Filter out rows that don't have visit data\n",
    "df_goog_v = df_goog.dropna(subset=['visit_lat', 'visit_lon'])\n",
    "\n",
    "# Plot the heatmap using seaborn\n",
    "fig, ax = plt.subplots()\n",
    "heatmap = sns.histplot(data=df_goog_v, x='visit_lon', y='visit_lat', bins=50, pmax=0.8, cmap='hot', ax=ax)\n",
    "\n",
    "# Add colorbar and labels\n",
    "# cbar = heatmap.collections[0].colorbar\n",
    "# cbar.set_label('Number of Visits')\n",
    "ax.set_title('Heatmap of Visit Data')\n",
    "ax.set_xlabel('Longitude')\n",
    "ax.set_ylabel('Latitude')\n",
    "plt.show()\n",
    "ctx.add_basemap(ax, source=ctx.providers.OpenStreetMap.Mapnik, crs='EPSG:4326')\n",
    "ax.set_axis_off()\n",
    "\n",
    "\n"
   ]
  },
  {
   "cell_type": "code",
   "execution_count": null,
   "metadata": {},
   "outputs": [],
   "source": [
    "# Plot the heatmap using seaborn\n",
    "fig, ax = plt.subplots()\n",
    "heatmap = sns.kdeplot(data=df_goog_v, x='visit_lon', y='visit_lat', fill=True, cmap='hot', ax=ax, thresh=0, levels=100)\n",
    "\n",
    "# Add colorbar and labels\n",
    "# cbar = heatmap.collections[0].colorbar\n",
    "# cbar.set_label('Number of Visits')\n",
    "ax.set_title('Heatmap of Visit Data')\n",
    "ax.set_xlabel('Longitude')\n",
    "ax.set_ylabel('Latitude')\n",
    "plt.show()\n",
    "ctx.add_basemap(ax, source=ctx.providers.OpenStreetMap.Mapnik, crs='EPSG:4326')\n",
    "ax.set_axis_off()"
   ]
  },
  {
   "cell_type": "code",
   "execution_count": null,
   "metadata": {},
   "outputs": [],
   "source": [
    "import folium\n",
    "from folium.plugins import MarkerCluster\n",
    "\n",
    "# Define the bounding box for New York City\n",
    "nyc_bbox = (-74.25909, 40.477399, -73.700272, 40.917577)\n",
    "\n",
    "# Filter the data to include only points within the NYC bounding box\n",
    "photo_locs_nyc = photo_locs.cx[nyc_bbox[0]:nyc_bbox[2], nyc_bbox[1]:nyc_bbox[3]]\n",
    "\n",
    "# Plot the points on the map\n",
    "fig, ax = plt.subplots()\n",
    "# photo_locs_nyc.plot(ax=ax, marker='o', color='red', markersize=10, alpha=0.5)\n",
    "m = folium.Map(location=[40.7128, -74.0060], zoom_start=12)\n",
    "\n",
    "# Add points to the map\n",
    "marker_cluster = MarkerCluster().add_to(m)\n",
    "for idx, row in photo_locs_nyc.iterrows():\n",
    "    folium.Marker(location=[row['latitude'], row['longitude']]).add_to(marker_cluster)\n",
    "\n",
    "# Save the map to an HTML file\n",
    "m\n",
    "\n"
   ]
  },
  {
   "cell_type": "code",
   "execution_count": null,
   "metadata": {},
   "outputs": [],
   "source": [
    "\n",
    "df_goog_ac = df_goog.dropna(subset=['activity'])"
   ]
  },
  {
   "cell_type": "code",
   "execution_count": null,
   "metadata": {},
   "outputs": [],
   "source": [
    "# Extract all the activity types from df_goog\n",
    "\n",
    "activity_types = df_goog_ac['activity'].apply(lambda x: x['topCandidate']['type'] if 'topCandidate' in x else None)\n",
    "df_goog_ac['activity_type'] = activity_types\n",
    "# Display the unique activity types\n",
    "unique_activity_types = activity_types.unique()\n",
    "print(unique_activity_types)"
   ]
  },
  {
   "cell_type": "code",
   "execution_count": null,
   "metadata": {},
   "outputs": [],
   "source": [
    "import matplotlib.pyplot as plt\n",
    "\n",
    "# Plot a histogram of activity types\n",
    "plt.figure(figsize=(10, 6))\n",
    "activity_types.value_counts().plot(kind='bar')\n",
    "plt.title('Histogram of Activity Types')\n",
    "plt.xlabel('Activity Type')\n",
    "plt.ylabel('Frequency')\n",
    "plt.xticks(rotation=45)\n",
    "plt.show()\n"
   ]
  },
  {
   "cell_type": "code",
   "execution_count": null,
   "metadata": {},
   "outputs": [],
   "source": [
    "x=df_nyc.groupby(['hex_id', 'activity'])"
   ]
  },
  {
   "cell_type": "code",
   "execution_count": null,
   "metadata": {},
   "outputs": [],
   "source": [
    "import geopandas as gpd\n",
    "import h3\n",
    "import numpy as np\n",
    "import lonboard\n",
    "from shapely.geometry import Polygon\n",
    "\n",
    "# Filter the dataset for only New York City\n",
    "nyc_bounds = [-74.25909, 40.477399, -73.700272, 40.917577]\n",
    "df_nyc = df_goog_ac[(df_goog_ac['start_lon'] >= nyc_bounds[0]) & (df_goog_ac['start_lon'] <= nyc_bounds[2]) &\n",
    "                    (df_goog_ac['start_lat'] >= nyc_bounds[1]) & (df_goog_ac['start_lat'] <= nyc_bounds[3])]\n",
    "\n",
    "# Create hexagon bins\n",
    "resolution = 8\n",
    "df_nyc['hex_id'] = df_nyc.apply(lambda row: h3.geo_to_h3(row['start_lat'], row['start_lon'], resolution), axis=1)\n",
    "\n",
    "# Compute the number of times traveled in each hexagon bin for different activity types\n",
    "hex_activity_counts = df_nyc.groupby(['hex_id', 'activity_type']).size().unstack(fill_value=0)\n",
    "\n",
    "# Add a total trip column summing all the others\n",
    "hex_activity_counts['total_trips'] = hex_activity_counts.sum(axis=1)\n",
    "\n",
    "hex_activity_counts = hex_activity_counts.reset_index()"
   ]
  },
  {
   "cell_type": "code",
   "execution_count": null,
   "metadata": {},
   "outputs": [],
   "source": [
    "hex_activity_counts.index"
   ]
  },
  {
   "cell_type": "code",
   "execution_count": null,
   "metadata": {},
   "outputs": [],
   "source": [
    "# Write geojson file\n",
    "# Function to get polygon for H3 cell\n",
    "def h3_to_polygon(h3_cell):\n",
    "    boundary = h3.h3_to_geo_boundary(h3_cell, geo_json=True)\n",
    "    return Polygon(boundary)\n",
    "\n",
    "# Create GeoDataFrame\n",
    "gdf = gpd.GeoDataFrame(hex_activity_counts, geometry=hex_activity_counts['hex_id'].apply(h3_to_polygon))\n",
    "\n",
    "# Convert GeoDataFrame to GeoJSON\n",
    "geojson = gdf.to_json()\n",
    "\n",
    "# Save GeoJSON to file\n",
    "with open('h3_trip_data.geojson', 'w') as f:\n",
    "    f.write(geojson)\n",
    "\n",
    "print(\"GeoJSON file created successfully.\")"
   ]
  },
  {
   "cell_type": "code",
   "execution_count": null,
   "metadata": {},
   "outputs": [],
   "source": [
    "hex_activity_counts.columns"
   ]
  }
 ],
 "metadata": {
  "kernelspec": {
   "display_name": "map2",
   "language": "python",
   "name": "python3"
  },
  "language_info": {
   "codemirror_mode": {
    "name": "ipython",
    "version": 3
   },
   "file_extension": ".py",
   "mimetype": "text/x-python",
   "name": "python",
   "nbconvert_exporter": "python",
   "pygments_lexer": "ipython3",
   "version": "3.11.9"
  }
 },
 "nbformat": 4,
 "nbformat_minor": 2
}
