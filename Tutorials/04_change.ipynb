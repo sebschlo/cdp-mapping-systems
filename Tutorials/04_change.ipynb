{
 "cells": [
  {
   "cell_type": "markdown",
   "metadata": {},
   "source": [
    "# Calculating change over time\n"
   ]
  },
  {
   "cell_type": "markdown",
   "metadata": {},
   "source": [
    "## imports\n"
   ]
  },
  {
   "cell_type": "code",
   "execution_count": 2,
   "metadata": {},
   "outputs": [],
   "source": [
    "import leafmap\n",
    "import leafmap.colormaps as cm\n",
    "import requests\n",
    "import rasterio as rio\n",
    "from rasterio.merge import merge\n",
    "import glob\n",
    "from rasterio.plot import reshape_as_image"
   ]
  },
  {
   "cell_type": "markdown",
   "metadata": {},
   "source": [
    "## searching for data\n"
   ]
  },
  {
   "cell_type": "code",
   "execution_count": 3,
   "metadata": {},
   "outputs": [],
   "source": [
    "url = \"https://earth-search.aws.element84.com/v1/\"\n",
    "collection = \"sentinel-2-l2a\"\n",
    "time_range = \"2023-08-01/2023-08-31\""
   ]
  },
  {
   "cell_type": "code",
   "execution_count": 4,
   "metadata": {},
   "outputs": [],
   "source": [
    "# bbox for dallas metro\n",
    "bbox = [\n",
    "    -97.06213756027009,\n",
    "    32.97324551867027,\n",
    "    -96.46807822577594,\n",
    "    33.3578329610085,\n",
    "]"
   ]
  },
  {
   "cell_type": "code",
   "execution_count": 5,
   "metadata": {},
   "outputs": [],
   "source": [
    "search_gdf = leafmap.stac_search(\n",
    "    url=url,\n",
    "    max_items=10,\n",
    "    collections=[collection],\n",
    "    bbox=bbox,\n",
    "    datetime=time_range,\n",
    "    query={\"eo:cloud_cover\": {\"lt\": 20}},\n",
    "    sortby=[{\"field\": \"properties.eo:cloud_cover\", \"direction\": \"asc\"}],\n",
    "    get_gdf=True,\n",
    ")"
   ]
  },
  {
   "cell_type": "code",
   "execution_count": 6,
   "metadata": {},
   "outputs": [
    {
     "data": {
      "text/plain": [
       "Index(['geometry', 'created', 'platform', 'constellation', 'instruments',\n",
       "       'eo:cloud_cover', 'proj:epsg', 'mgrs:utm_zone', 'mgrs:latitude_band',\n",
       "       'mgrs:grid_square', 'grid:code', 'view:sun_azimuth',\n",
       "       'view:sun_elevation', 's2:degraded_msi_data_percentage',\n",
       "       's2:nodata_pixel_percentage', 's2:saturated_defective_pixel_percentage',\n",
       "       's2:dark_features_percentage', 's2:cloud_shadow_percentage',\n",
       "       's2:vegetation_percentage', 's2:not_vegetated_percentage',\n",
       "       's2:water_percentage', 's2:unclassified_percentage',\n",
       "       's2:medium_proba_clouds_percentage', 's2:high_proba_clouds_percentage',\n",
       "       's2:thin_cirrus_percentage', 's2:snow_ice_percentage',\n",
       "       's2:product_type', 's2:processing_baseline', 's2:product_uri',\n",
       "       's2:generation_time', 's2:datatake_id', 's2:datatake_type',\n",
       "       's2:datastrip_id', 's2:granule_id', 's2:reflectance_conversion_factor',\n",
       "       'datetime', 's2:sequence', 'earthsearch:s3_path',\n",
       "       'earthsearch:payload_id', 'earthsearch:boa_offset_applied',\n",
       "       'processing:software', 'updated'],\n",
       "      dtype='object')"
      ]
     },
     "execution_count": 6,
     "metadata": {},
     "output_type": "execute_result"
    }
   ],
   "source": [
    "search_gdf.columns"
   ]
  },
  {
   "cell_type": "markdown",
   "metadata": {},
   "source": [
    "## exploring and filtering search results\n"
   ]
  },
  {
   "cell_type": "code",
   "execution_count": 7,
   "metadata": {},
   "outputs": [
    {
     "data": {
      "text/plain": [
       "<Axes: >"
      ]
     },
     "execution_count": 7,
     "metadata": {},
     "output_type": "execute_result"
    },
    {
     "data": {
      "image/png": "[encoded data removed]",
      "text/plain": [
       "<Figure size 640x480 with 1 Axes>"
      ]
     },
     "metadata": {},
     "output_type": "display_data"
    }
   ],
   "source": [
    "search_gdf.plot(\"mgrs:grid_square\", alpha=0.25)"
   ]
  },
  {
   "cell_type": "code",
   "execution_count": 8,
   "metadata": {},
   "outputs": [
    {
     "data": {
      "text/plain": [
       "s2:granule_id\n",
       "S2B_OPER_MSI_L2A_TL_2BPS_20230819T223356_A033700_T14SQB_N05.09    1\n",
       "S2A_OPER_MSI_L2A_TL_2APS_20230804T235402_A042394_T14SQB_N05.09    1\n",
       "S2A_OPER_MSI_L2A_TL_2APS_20230818T002256_A042580_T14SPC_N05.09    1\n",
       "S2B_OPER_MSI_L2A_TL_2BPS_20230819T223356_A033700_T14SPB_N05.09    1\n",
       "S2A_OPER_MSI_L2A_TL_2APS_20230815T002553_A042537_T14SPB_N05.09    1\n",
       "S2A_OPER_MSI_L2A_TL_2APS_20230815T002553_A042537_T14SQB_N05.09    1\n",
       "S2B_OPER_MSI_L2A_TL_2BPS_20230819T223356_A033700_T14SPC_N05.09    1\n",
       "S2A_OPER_MSI_L2A_TL_2APS_20230818T002256_A042580_T14SQC_N05.09    1\n",
       "S2A_OPER_MSI_L2A_TL_2APS_20230804T235402_A042394_T14SPB_N05.09    1\n",
       "S2B_OPER_MSI_L2A_TL_2BPS_20230819T223356_A033700_T14SQC_N05.09    1\n",
       "Name: count, dtype: int64"
      ]
     },
     "execution_count": 8,
     "metadata": {},
     "output_type": "execute_result"
    }
   ],
   "source": [
    "search_gdf[\"s2:granule_id\"].value_counts()"
   ]
  },
  {
   "cell_type": "code",
   "execution_count": 9,
   "metadata": {},
   "outputs": [],
   "source": [
    "search_gdf[\"area\"] = search_gdf.geometry.area"
   ]
  },
  {
   "cell_type": "code",
   "execution_count": 10,
   "metadata": {},
   "outputs": [],
   "source": [
    "search_gdf.sort_values(\"area\", ascending=False, inplace=True)"
   ]
  },
  {
   "cell_type": "code",
   "execution_count": 11,
   "metadata": {},
   "outputs": [
    {
     "data": {
      "text/html": [
       "<div>\n",
       "<style scoped>\n",
       "    .dataframe tbody tr th:only-of-type {\n",
       "        vertical-align: middle;\n",
       "    }\n",
       "\n",
       "    .dataframe tbody tr th {\n",
       "        vertical-align: top;\n",
       "    }\n",
       "\n",
       "    .dataframe thead th {\n",
       "        text-align: right;\n",
       "    }\n",
       "</style>\n",
       "<table border=\"1\" class=\"dataframe\">\n",
       "  <thead>\n",
       "    <tr style=\"text-align: right;\">\n",
       "      <th></th>\n",
       "      <th>geometry</th>\n",
       "      <th>created</th>\n",
       "      <th>platform</th>\n",
       "      <th>constellation</th>\n",
       "      <th>instruments</th>\n",
       "      <th>eo:cloud_cover</th>\n",
       "      <th>proj:epsg</th>\n",
       "      <th>mgrs:utm_zone</th>\n",
       "      <th>mgrs:latitude_band</th>\n",
       "      <th>mgrs:grid_square</th>\n",
       "      <th>...</th>\n",
       "      <th>s2:granule_id</th>\n",
       "      <th>s2:reflectance_conversion_factor</th>\n",
       "      <th>datetime</th>\n",
       "      <th>s2:sequence</th>\n",
       "      <th>earthsearch:s3_path</th>\n",
       "      <th>earthsearch:payload_id</th>\n",
       "      <th>earthsearch:boa_offset_applied</th>\n",
       "      <th>processing:software</th>\n",
       "      <th>updated</th>\n",
       "      <th>area</th>\n",
       "    </tr>\n",
       "  </thead>\n",
       "  <tbody>\n",
       "    <tr>\n",
       "      <th>2</th>\n",
       "      <td>POLYGON ((-97.91284 34.33683, -97.92531 33.346...</td>\n",
       "      <td>2023-08-18T06:10:25.042Z</td>\n",
       "      <td>sentinel-2a</td>\n",
       "      <td>sentinel-2</td>\n",
       "      <td>[msi]</td>\n",
       "      <td>0.006437</td>\n",
       "      <td>32614</td>\n",
       "      <td>14</td>\n",
       "      <td>S</td>\n",
       "      <td>PC</td>\n",
       "      <td>...</td>\n",
       "      <td>S2A_OPER_MSI_L2A_TL_2APS_20230818T002256_A0425...</td>\n",
       "      <td>0.974489</td>\n",
       "      <td>2023-08-17T17:24:31.907000Z</td>\n",
       "      <td>0</td>\n",
       "      <td>s3://sentinel-cogs/sentinel-s2-l2a-cogs/14/S/P...</td>\n",
       "      <td>roda-sentinel2/workflow-sentinel2-to-stac/a898...</td>\n",
       "      <td>True</td>\n",
       "      <td>{'sentinel2-to-stac': '0.1.1'}</td>\n",
       "      <td>2023-08-18T06:10:25.042Z</td>\n",
       "      <td>1.174444</td>\n",
       "    </tr>\n",
       "    <tr>\n",
       "      <th>9</th>\n",
       "      <td>POLYGON ((-96.81576 34.32217, -96.82780 34.277...</td>\n",
       "      <td>2023-08-20T04:44:38.807Z</td>\n",
       "      <td>sentinel-2b</td>\n",
       "      <td>sentinel-2</td>\n",
       "      <td>[msi]</td>\n",
       "      <td>0.076934</td>\n",
       "      <td>32614</td>\n",
       "      <td>14</td>\n",
       "      <td>S</td>\n",
       "      <td>QC</td>\n",
       "      <td>...</td>\n",
       "      <td>S2B_OPER_MSI_L2A_TL_2BPS_20230819T223356_A0337...</td>\n",
       "      <td>0.975198</td>\n",
       "      <td>2023-08-19T17:14:31.780000Z</td>\n",
       "      <td>0</td>\n",
       "      <td>s3://sentinel-cogs/sentinel-s2-l2a-cogs/14/S/Q...</td>\n",
       "      <td>roda-sentinel2/workflow-sentinel2-to-stac/2524...</td>\n",
       "      <td>True</td>\n",
       "      <td>{'sentinel2-to-stac': '0.1.1'}</td>\n",
       "      <td>2023-08-20T04:44:38.807Z</td>\n",
       "      <td>1.172798</td>\n",
       "    </tr>\n",
       "    <tr>\n",
       "      <th>0</th>\n",
       "      <td>POLYGON ((-96.84938 33.42092, -96.87321 32.431...</td>\n",
       "      <td>2023-08-20T04:40:37.325Z</td>\n",
       "      <td>sentinel-2b</td>\n",
       "      <td>sentinel-2</td>\n",
       "      <td>[msi]</td>\n",
       "      <td>0.004539</td>\n",
       "      <td>32614</td>\n",
       "      <td>14</td>\n",
       "      <td>S</td>\n",
       "      <td>QB</td>\n",
       "      <td>...</td>\n",
       "      <td>S2B_OPER_MSI_L2A_TL_2BPS_20230819T223356_A0337...</td>\n",
       "      <td>0.975198</td>\n",
       "      <td>2023-08-19T17:14:46.266000Z</td>\n",
       "      <td>0</td>\n",
       "      <td>s3://sentinel-cogs/sentinel-s2-l2a-cogs/14/S/Q...</td>\n",
       "      <td>roda-sentinel2/workflow-sentinel2-to-stac/a707...</td>\n",
       "      <td>True</td>\n",
       "      <td>{'sentinel2-to-stac': '0.1.1'}</td>\n",
       "      <td>2023-08-20T04:40:37.325Z</td>\n",
       "      <td>1.161135</td>\n",
       "    </tr>\n",
       "    <tr>\n",
       "      <th>1</th>\n",
       "      <td>POLYGON ((-96.84938 33.42092, -96.87321 32.431...</td>\n",
       "      <td>2023-08-05T04:59:04.872Z</td>\n",
       "      <td>sentinel-2a</td>\n",
       "      <td>sentinel-2</td>\n",
       "      <td>[msi]</td>\n",
       "      <td>0.005262</td>\n",
       "      <td>32614</td>\n",
       "      <td>14</td>\n",
       "      <td>S</td>\n",
       "      <td>QB</td>\n",
       "      <td>...</td>\n",
       "      <td>S2A_OPER_MSI_L2A_TL_2APS_20230804T235402_A0423...</td>\n",
       "      <td>0.970632</td>\n",
       "      <td>2023-08-04T17:14:46.231000Z</td>\n",
       "      <td>0</td>\n",
       "      <td>s3://sentinel-cogs/sentinel-s2-l2a-cogs/14/S/Q...</td>\n",
       "      <td>roda-sentinel2/workflow-sentinel2-to-stac/73a7...</td>\n",
       "      <td>True</td>\n",
       "      <td>{'sentinel2-to-stac': '0.1.1'}</td>\n",
       "      <td>2023-08-05T04:59:04.872Z</td>\n",
       "      <td>1.161135</td>\n",
       "    </tr>\n",
       "    <tr>\n",
       "      <th>5</th>\n",
       "      <td>POLYGON ((-96.84938 33.42092, -96.87321 32.431...</td>\n",
       "      <td>2023-08-15T04:10:46.325Z</td>\n",
       "      <td>sentinel-2a</td>\n",
       "      <td>sentinel-2</td>\n",
       "      <td>[msi]</td>\n",
       "      <td>0.014575</td>\n",
       "      <td>32614</td>\n",
       "      <td>14</td>\n",
       "      <td>S</td>\n",
       "      <td>QB</td>\n",
       "      <td>...</td>\n",
       "      <td>S2A_OPER_MSI_L2A_TL_2APS_20230815T002553_A0425...</td>\n",
       "      <td>0.973476</td>\n",
       "      <td>2023-08-14T17:14:46.612000Z</td>\n",
       "      <td>0</td>\n",
       "      <td>s3://sentinel-cogs/sentinel-s2-l2a-cogs/14/S/Q...</td>\n",
       "      <td>roda-sentinel2/workflow-sentinel2-to-stac/cac3...</td>\n",
       "      <td>True</td>\n",
       "      <td>{'sentinel2-to-stac': '0.1.1'}</td>\n",
       "      <td>2023-08-15T04:10:46.325Z</td>\n",
       "      <td>1.161135</td>\n",
       "    </tr>\n",
       "    <tr>\n",
       "      <th>7</th>\n",
       "      <td>POLYGON ((-96.82664 34.32236, -96.85153 33.333...</td>\n",
       "      <td>2023-08-18T06:09:55.100Z</td>\n",
       "      <td>sentinel-2a</td>\n",
       "      <td>sentinel-2</td>\n",
       "      <td>[msi]</td>\n",
       "      <td>0.040440</td>\n",
       "      <td>32614</td>\n",
       "      <td>14</td>\n",
       "      <td>S</td>\n",
       "      <td>QC</td>\n",
       "      <td>...</td>\n",
       "      <td>S2A_OPER_MSI_L2A_TL_2APS_20230818T002256_A0425...</td>\n",
       "      <td>0.974489</td>\n",
       "      <td>2023-08-17T17:24:28.416000Z</td>\n",
       "      <td>0</td>\n",
       "      <td>s3://sentinel-cogs/sentinel-s2-l2a-cogs/14/S/Q...</td>\n",
       "      <td>roda-sentinel2/workflow-sentinel2-to-stac/c613...</td>\n",
       "      <td>True</td>\n",
       "      <td>{'sentinel2-to-stac': '0.1.1'}</td>\n",
       "      <td>2023-08-18T06:09:55.100Z</td>\n",
       "      <td>0.620451</td>\n",
       "    </tr>\n",
       "    <tr>\n",
       "      <th>4</th>\n",
       "      <td>POLYGON ((-97.06177 33.42442, -97.32332 32.437...</td>\n",
       "      <td>2023-08-15T04:07:22.379Z</td>\n",
       "      <td>sentinel-2a</td>\n",
       "      <td>sentinel-2</td>\n",
       "      <td>[msi]</td>\n",
       "      <td>0.014211</td>\n",
       "      <td>32614</td>\n",
       "      <td>14</td>\n",
       "      <td>S</td>\n",
       "      <td>PB</td>\n",
       "      <td>...</td>\n",
       "      <td>S2A_OPER_MSI_L2A_TL_2APS_20230815T002553_A0425...</td>\n",
       "      <td>0.973476</td>\n",
       "      <td>2023-08-14T17:14:49.390000Z</td>\n",
       "      <td>0</td>\n",
       "      <td>s3://sentinel-cogs/sentinel-s2-l2a-cogs/14/S/P...</td>\n",
       "      <td>roda-sentinel2/workflow-sentinel2-to-stac/ccee...</td>\n",
       "      <td>True</td>\n",
       "      <td>{'sentinel2-to-stac': '0.1.1'}</td>\n",
       "      <td>2023-08-15T04:07:22.379Z</td>\n",
       "      <td>0.432199</td>\n",
       "    </tr>\n",
       "    <tr>\n",
       "      <th>8</th>\n",
       "      <td>POLYGON ((-97.05919 33.42438, -97.32056 32.437...</td>\n",
       "      <td>2023-08-05T04:52:48.750Z</td>\n",
       "      <td>sentinel-2a</td>\n",
       "      <td>sentinel-2</td>\n",
       "      <td>[msi]</td>\n",
       "      <td>0.059570</td>\n",
       "      <td>32614</td>\n",
       "      <td>14</td>\n",
       "      <td>S</td>\n",
       "      <td>PB</td>\n",
       "      <td>...</td>\n",
       "      <td>S2A_OPER_MSI_L2A_TL_2APS_20230804T235402_A0423...</td>\n",
       "      <td>0.970632</td>\n",
       "      <td>2023-08-04T17:14:49.014000Z</td>\n",
       "      <td>0</td>\n",
       "      <td>s3://sentinel-cogs/sentinel-s2-l2a-cogs/14/S/P...</td>\n",
       "      <td>roda-sentinel2/workflow-sentinel2-to-stac/a5ff...</td>\n",
       "      <td>True</td>\n",
       "      <td>{'sentinel2-to-stac': '0.1.1'}</td>\n",
       "      <td>2023-08-05T04:52:48.750Z</td>\n",
       "      <td>0.429551</td>\n",
       "    </tr>\n",
       "    <tr>\n",
       "      <th>3</th>\n",
       "      <td>POLYGON ((-97.05790 33.42436, -97.31949 32.437...</td>\n",
       "      <td>2023-08-20T04:36:25.463Z</td>\n",
       "      <td>sentinel-2b</td>\n",
       "      <td>sentinel-2</td>\n",
       "      <td>[msi]</td>\n",
       "      <td>0.009056</td>\n",
       "      <td>32614</td>\n",
       "      <td>14</td>\n",
       "      <td>S</td>\n",
       "      <td>PB</td>\n",
       "      <td>...</td>\n",
       "      <td>S2B_OPER_MSI_L2A_TL_2BPS_20230819T223356_A0337...</td>\n",
       "      <td>0.975198</td>\n",
       "      <td>2023-08-19T17:14:49.046000Z</td>\n",
       "      <td>0</td>\n",
       "      <td>s3://sentinel-cogs/sentinel-s2-l2a-cogs/14/S/P...</td>\n",
       "      <td>roda-sentinel2/workflow-sentinel2-to-stac/ee80...</td>\n",
       "      <td>True</td>\n",
       "      <td>{'sentinel2-to-stac': '0.1.1'}</td>\n",
       "      <td>2023-08-20T04:36:25.463Z</td>\n",
       "      <td>0.428386</td>\n",
       "    </tr>\n",
       "    <tr>\n",
       "      <th>6</th>\n",
       "      <td>POLYGON ((-96.81576 34.32217, -97.08134 33.336...</td>\n",
       "      <td>2023-08-20T04:30:59.255Z</td>\n",
       "      <td>sentinel-2b</td>\n",
       "      <td>sentinel-2</td>\n",
       "      <td>[msi]</td>\n",
       "      <td>0.017386</td>\n",
       "      <td>32614</td>\n",
       "      <td>14</td>\n",
       "      <td>S</td>\n",
       "      <td>PC</td>\n",
       "      <td>...</td>\n",
       "      <td>S2B_OPER_MSI_L2A_TL_2BPS_20230819T223356_A0337...</td>\n",
       "      <td>0.975198</td>\n",
       "      <td>2023-08-19T17:14:35.561000Z</td>\n",
       "      <td>0</td>\n",
       "      <td>s3://sentinel-cogs/sentinel-s2-l2a-cogs/14/S/P...</td>\n",
       "      <td>roda-sentinel2/workflow-sentinel2-to-stac/741d...</td>\n",
       "      <td>True</td>\n",
       "      <td>{'sentinel2-to-stac': '0.1.1'}</td>\n",
       "      <td>2023-08-20T04:30:59.255Z</td>\n",
       "      <td>0.213553</td>\n",
       "    </tr>\n",
       "  </tbody>\n",
       "</table>\n",
       "<p>10 rows × 43 columns</p>\n",
       "</div>"
      ],
      "text/plain": [
       "                                            geometry  \\\n",
       "2  POLYGON ((-97.91284 34.33683, -97.92531 33.346...   \n",
       "9  POLYGON ((-96.81576 34.32217, -96.82780 34.277...   \n",
       "0  POLYGON ((-96.84938 33.42092, -96.87321 32.431...   \n",
       "1  POLYGON ((-96.84938 33.42092, -96.87321 32.431...   \n",
       "5  POLYGON ((-96.84938 33.42092, -96.87321 32.431...   \n",
       "7  POLYGON ((-96.82664 34.32236, -96.85153 33.333...   \n",
       "4  POLYGON ((-97.06177 33.42442, -97.32332 32.437...   \n",
       "8  POLYGON ((-97.05919 33.42438, -97.32056 32.437...   \n",
       "3  POLYGON ((-97.05790 33.42436, -97.31949 32.437...   \n",
       "6  POLYGON ((-96.81576 34.32217, -97.08134 33.336...   \n",
       "\n",
       "                    created     platform constellation instruments  \\\n",
       "2  2023-08-18T06:10:25.042Z  sentinel-2a    sentinel-2       [msi]   \n",
       "9  2023-08-20T04:44:38.807Z  sentinel-2b    sentinel-2       [msi]   \n",
       "0  2023-08-20T04:40:37.325Z  sentinel-2b    sentinel-2       [msi]   \n",
       "1  2023-08-05T04:59:04.872Z  sentinel-2a    sentinel-2       [msi]   \n",
       "5  2023-08-15T04:10:46.325Z  sentinel-2a    sentinel-2       [msi]   \n",
       "7  2023-08-18T06:09:55.100Z  sentinel-2a    sentinel-2       [msi]   \n",
       "4  2023-08-15T04:07:22.379Z  sentinel-2a    sentinel-2       [msi]   \n",
       "8  2023-08-05T04:52:48.750Z  sentinel-2a    sentinel-2       [msi]   \n",
       "3  2023-08-20T04:36:25.463Z  sentinel-2b    sentinel-2       [msi]   \n",
       "6  2023-08-20T04:30:59.255Z  sentinel-2b    sentinel-2       [msi]   \n",
       "\n",
       "   eo:cloud_cover  proj:epsg  mgrs:utm_zone mgrs:latitude_band  \\\n",
       "2        0.006437      32614             14                  S   \n",
       "9        0.076934      32614             14                  S   \n",
       "0        0.004539      32614             14                  S   \n",
       "1        0.005262      32614             14                  S   \n",
       "5        0.014575      32614             14                  S   \n",
       "7        0.040440      32614             14                  S   \n",
       "4        0.014211      32614             14                  S   \n",
       "8        0.059570      32614             14                  S   \n",
       "3        0.009056      32614             14                  S   \n",
       "6        0.017386      32614             14                  S   \n",
       "\n",
       "  mgrs:grid_square  ...                                      s2:granule_id  \\\n",
       "2               PC  ...  S2A_OPER_MSI_L2A_TL_2APS_20230818T002256_A0425...   \n",
       "9               QC  ...  S2B_OPER_MSI_L2A_TL_2BPS_20230819T223356_A0337...   \n",
       "0               QB  ...  S2B_OPER_MSI_L2A_TL_2BPS_20230819T223356_A0337...   \n",
       "1               QB  ...  S2A_OPER_MSI_L2A_TL_2APS_20230804T235402_A0423...   \n",
       "5               QB  ...  S2A_OPER_MSI_L2A_TL_2APS_20230815T002553_A0425...   \n",
       "7               QC  ...  S2A_OPER_MSI_L2A_TL_2APS_20230818T002256_A0425...   \n",
       "4               PB  ...  S2A_OPER_MSI_L2A_TL_2APS_20230815T002553_A0425...   \n",
       "8               PB  ...  S2A_OPER_MSI_L2A_TL_2APS_20230804T235402_A0423...   \n",
       "3               PB  ...  S2B_OPER_MSI_L2A_TL_2BPS_20230819T223356_A0337...   \n",
       "6               PC  ...  S2B_OPER_MSI_L2A_TL_2BPS_20230819T223356_A0337...   \n",
       "\n",
       "   s2:reflectance_conversion_factor                     datetime  s2:sequence  \\\n",
       "2                          0.974489  2023-08-17T17:24:31.907000Z            0   \n",
       "9                          0.975198  2023-08-19T17:14:31.780000Z            0   \n",
       "0                          0.975198  2023-08-19T17:14:46.266000Z            0   \n",
       "1                          0.970632  2023-08-04T17:14:46.231000Z            0   \n",
       "5                          0.973476  2023-08-14T17:14:46.612000Z            0   \n",
       "7                          0.974489  2023-08-17T17:24:28.416000Z            0   \n",
       "4                          0.973476  2023-08-14T17:14:49.390000Z            0   \n",
       "8                          0.970632  2023-08-04T17:14:49.014000Z            0   \n",
       "3                          0.975198  2023-08-19T17:14:49.046000Z            0   \n",
       "6                          0.975198  2023-08-19T17:14:35.561000Z            0   \n",
       "\n",
       "                                 earthsearch:s3_path  \\\n",
       "2  s3://sentinel-cogs/sentinel-s2-l2a-cogs/14/S/P...   \n",
       "9  s3://sentinel-cogs/sentinel-s2-l2a-cogs/14/S/Q...   \n",
       "0  s3://sentinel-cogs/sentinel-s2-l2a-cogs/14/S/Q...   \n",
       "1  s3://sentinel-cogs/sentinel-s2-l2a-cogs/14/S/Q...   \n",
       "5  s3://sentinel-cogs/sentinel-s2-l2a-cogs/14/S/Q...   \n",
       "7  s3://sentinel-cogs/sentinel-s2-l2a-cogs/14/S/Q...   \n",
       "4  s3://sentinel-cogs/sentinel-s2-l2a-cogs/14/S/P...   \n",
       "8  s3://sentinel-cogs/sentinel-s2-l2a-cogs/14/S/P...   \n",
       "3  s3://sentinel-cogs/sentinel-s2-l2a-cogs/14/S/P...   \n",
       "6  s3://sentinel-cogs/sentinel-s2-l2a-cogs/14/S/P...   \n",
       "\n",
       "                              earthsearch:payload_id  \\\n",
       "2  roda-sentinel2/workflow-sentinel2-to-stac/a898...   \n",
       "9  roda-sentinel2/workflow-sentinel2-to-stac/2524...   \n",
       "0  roda-sentinel2/workflow-sentinel2-to-stac/a707...   \n",
       "1  roda-sentinel2/workflow-sentinel2-to-stac/73a7...   \n",
       "5  roda-sentinel2/workflow-sentinel2-to-stac/cac3...   \n",
       "7  roda-sentinel2/workflow-sentinel2-to-stac/c613...   \n",
       "4  roda-sentinel2/workflow-sentinel2-to-stac/ccee...   \n",
       "8  roda-sentinel2/workflow-sentinel2-to-stac/a5ff...   \n",
       "3  roda-sentinel2/workflow-sentinel2-to-stac/ee80...   \n",
       "6  roda-sentinel2/workflow-sentinel2-to-stac/741d...   \n",
       "\n",
       "   earthsearch:boa_offset_applied             processing:software  \\\n",
       "2                            True  {'sentinel2-to-stac': '0.1.1'}   \n",
       "9                            True  {'sentinel2-to-stac': '0.1.1'}   \n",
       "0                            True  {'sentinel2-to-stac': '0.1.1'}   \n",
       "1                            True  {'sentinel2-to-stac': '0.1.1'}   \n",
       "5                            True  {'sentinel2-to-stac': '0.1.1'}   \n",
       "7                            True  {'sentinel2-to-stac': '0.1.1'}   \n",
       "4                            True  {'sentinel2-to-stac': '0.1.1'}   \n",
       "8                            True  {'sentinel2-to-stac': '0.1.1'}   \n",
       "3                            True  {'sentinel2-to-stac': '0.1.1'}   \n",
       "6                            True  {'sentinel2-to-stac': '0.1.1'}   \n",
       "\n",
       "                    updated      area  \n",
       "2  2023-08-18T06:10:25.042Z  1.174444  \n",
       "9  2023-08-20T04:44:38.807Z  1.172798  \n",
       "0  2023-08-20T04:40:37.325Z  1.161135  \n",
       "1  2023-08-05T04:59:04.872Z  1.161135  \n",
       "5  2023-08-15T04:10:46.325Z  1.161135  \n",
       "7  2023-08-18T06:09:55.100Z  0.620451  \n",
       "4  2023-08-15T04:07:22.379Z  0.432199  \n",
       "8  2023-08-05T04:52:48.750Z  0.429551  \n",
       "3  2023-08-20T04:36:25.463Z  0.428386  \n",
       "6  2023-08-20T04:30:59.255Z  0.213553  \n",
       "\n",
       "[10 rows x 43 columns]"
      ]
     },
     "execution_count": 11,
     "metadata": {},
     "output_type": "execute_result"
    }
   ],
   "source": [
    "search_gdf"
   ]
  },
  {
   "cell_type": "code",
   "execution_count": 12,
   "metadata": {},
   "outputs": [],
   "source": [
    "search_gdf.drop_duplicates(\"mgrs:grid_square\", inplace=True)"
   ]
  },
  {
   "cell_type": "code",
   "execution_count": 13,
   "metadata": {},
   "outputs": [
    {
     "data": {
      "text/plain": [
       "<Axes: >"
      ]
     },
     "execution_count": 13,
     "metadata": {},
     "output_type": "execute_result"
    },
    {
     "data": {
      "image/png": "[encoded data removed]",
      "text/plain": [
       "<Figure size 640x480 with 1 Axes>"
      ]
     },
     "metadata": {},
     "output_type": "display_data"
    }
   ],
   "source": [
    "search_gdf.iloc[0:4].plot(\"s2:granule_id\", alpha=0.5)"
   ]
  },
  {
   "cell_type": "code",
   "execution_count": 14,
   "metadata": {},
   "outputs": [],
   "source": [
    "# # create a query searching for unique datastrip ids based on the above\n",
    "q = {\"s2:granule_id\": {\"in\": search_gdf[\"s2:granule_id\"].iloc[0:4].unique().tolist()}}\n",
    "\n",
    "search_gdf2 = leafmap.stac_search(\n",
    "    url=url,\n",
    "    max_items=4,\n",
    "    collections=[collection],\n",
    "    bbox=bbox,\n",
    "    datetime=time_range,\n",
    "    query=q,\n",
    "    get_gdf=True,\n",
    ")"
   ]
  },
  {
   "cell_type": "code",
   "execution_count": 15,
   "metadata": {},
   "outputs": [
    {
     "data": {
      "text/html": [
       "<div>\n",
       "<style scoped>\n",
       "    .dataframe tbody tr th:only-of-type {\n",
       "        vertical-align: middle;\n",
       "    }\n",
       "\n",
       "    .dataframe tbody tr th {\n",
       "        vertical-align: top;\n",
       "    }\n",
       "\n",
       "    .dataframe thead th {\n",
       "        text-align: right;\n",
       "    }\n",
       "</style>\n",
       "<table border=\"1\" class=\"dataframe\">\n",
       "  <thead>\n",
       "    <tr style=\"text-align: right;\">\n",
       "      <th></th>\n",
       "      <th>geometry</th>\n",
       "      <th>created</th>\n",
       "      <th>platform</th>\n",
       "      <th>constellation</th>\n",
       "      <th>instruments</th>\n",
       "      <th>eo:cloud_cover</th>\n",
       "      <th>proj:epsg</th>\n",
       "      <th>mgrs:utm_zone</th>\n",
       "      <th>mgrs:latitude_band</th>\n",
       "      <th>mgrs:grid_square</th>\n",
       "      <th>...</th>\n",
       "      <th>s2:datastrip_id</th>\n",
       "      <th>s2:granule_id</th>\n",
       "      <th>s2:reflectance_conversion_factor</th>\n",
       "      <th>datetime</th>\n",
       "      <th>s2:sequence</th>\n",
       "      <th>earthsearch:s3_path</th>\n",
       "      <th>earthsearch:payload_id</th>\n",
       "      <th>earthsearch:boa_offset_applied</th>\n",
       "      <th>processing:software</th>\n",
       "      <th>updated</th>\n",
       "    </tr>\n",
       "  </thead>\n",
       "  <tbody>\n",
       "    <tr>\n",
       "      <th>0</th>\n",
       "      <td>POLYGON ((-96.84938 33.42092, -96.87321 32.431...</td>\n",
       "      <td>2023-08-20T04:40:37.325Z</td>\n",
       "      <td>sentinel-2b</td>\n",
       "      <td>sentinel-2</td>\n",
       "      <td>[msi]</td>\n",
       "      <td>0.004539</td>\n",
       "      <td>32614</td>\n",
       "      <td>14</td>\n",
       "      <td>S</td>\n",
       "      <td>QB</td>\n",
       "      <td>...</td>\n",
       "      <td>S2B_OPER_MSI_L2A_DS_2BPS_20230819T223356_S2023...</td>\n",
       "      <td>S2B_OPER_MSI_L2A_TL_2BPS_20230819T223356_A0337...</td>\n",
       "      <td>0.975198</td>\n",
       "      <td>2023-08-19T17:14:46.266000Z</td>\n",
       "      <td>0</td>\n",
       "      <td>s3://sentinel-cogs/sentinel-s2-l2a-cogs/14/S/Q...</td>\n",
       "      <td>roda-sentinel2/workflow-sentinel2-to-stac/a707...</td>\n",
       "      <td>True</td>\n",
       "      <td>{'sentinel2-to-stac': '0.1.1'}</td>\n",
       "      <td>2023-08-20T04:40:37.325Z</td>\n",
       "    </tr>\n",
       "    <tr>\n",
       "      <th>1</th>\n",
       "      <td>POLYGON ((-96.81576 34.32217, -96.82780 34.277...</td>\n",
       "      <td>2023-08-20T04:44:38.807Z</td>\n",
       "      <td>sentinel-2b</td>\n",
       "      <td>sentinel-2</td>\n",
       "      <td>[msi]</td>\n",
       "      <td>0.076934</td>\n",
       "      <td>32614</td>\n",
       "      <td>14</td>\n",
       "      <td>S</td>\n",
       "      <td>QC</td>\n",
       "      <td>...</td>\n",
       "      <td>S2B_OPER_MSI_L2A_DS_2BPS_20230819T223356_S2023...</td>\n",
       "      <td>S2B_OPER_MSI_L2A_TL_2BPS_20230819T223356_A0337...</td>\n",
       "      <td>0.975198</td>\n",
       "      <td>2023-08-19T17:14:31.780000Z</td>\n",
       "      <td>0</td>\n",
       "      <td>s3://sentinel-cogs/sentinel-s2-l2a-cogs/14/S/Q...</td>\n",
       "      <td>roda-sentinel2/workflow-sentinel2-to-stac/2524...</td>\n",
       "      <td>True</td>\n",
       "      <td>{'sentinel2-to-stac': '0.1.1'}</td>\n",
       "      <td>2023-08-20T04:44:38.807Z</td>\n",
       "    </tr>\n",
       "    <tr>\n",
       "      <th>2</th>\n",
       "      <td>POLYGON ((-97.91284 34.33683, -97.92531 33.346...</td>\n",
       "      <td>2023-08-18T06:10:25.042Z</td>\n",
       "      <td>sentinel-2a</td>\n",
       "      <td>sentinel-2</td>\n",
       "      <td>[msi]</td>\n",
       "      <td>0.006437</td>\n",
       "      <td>32614</td>\n",
       "      <td>14</td>\n",
       "      <td>S</td>\n",
       "      <td>PC</td>\n",
       "      <td>...</td>\n",
       "      <td>S2A_OPER_MSI_L2A_DS_2APS_20230818T002256_S2023...</td>\n",
       "      <td>S2A_OPER_MSI_L2A_TL_2APS_20230818T002256_A0425...</td>\n",
       "      <td>0.974489</td>\n",
       "      <td>2023-08-17T17:24:31.907000Z</td>\n",
       "      <td>0</td>\n",
       "      <td>s3://sentinel-cogs/sentinel-s2-l2a-cogs/14/S/P...</td>\n",
       "      <td>roda-sentinel2/workflow-sentinel2-to-stac/a898...</td>\n",
       "      <td>True</td>\n",
       "      <td>{'sentinel2-to-stac': '0.1.1'}</td>\n",
       "      <td>2023-08-18T06:10:25.042Z</td>\n",
       "    </tr>\n",
       "    <tr>\n",
       "      <th>3</th>\n",
       "      <td>POLYGON ((-97.06177 33.42442, -97.32332 32.437...</td>\n",
       "      <td>2023-08-15T04:07:22.379Z</td>\n",
       "      <td>sentinel-2a</td>\n",
       "      <td>sentinel-2</td>\n",
       "      <td>[msi]</td>\n",
       "      <td>0.014211</td>\n",
       "      <td>32614</td>\n",
       "      <td>14</td>\n",
       "      <td>S</td>\n",
       "      <td>PB</td>\n",
       "      <td>...</td>\n",
       "      <td>S2A_OPER_MSI_L2A_DS_2APS_20230815T002553_S2023...</td>\n",
       "      <td>S2A_OPER_MSI_L2A_TL_2APS_20230815T002553_A0425...</td>\n",
       "      <td>0.973476</td>\n",
       "      <td>2023-08-14T17:14:49.390000Z</td>\n",
       "      <td>0</td>\n",
       "      <td>s3://sentinel-cogs/sentinel-s2-l2a-cogs/14/S/P...</td>\n",
       "      <td>roda-sentinel2/workflow-sentinel2-to-stac/ccee...</td>\n",
       "      <td>True</td>\n",
       "      <td>{'sentinel2-to-stac': '0.1.1'}</td>\n",
       "      <td>2023-08-15T04:07:22.379Z</td>\n",
       "    </tr>\n",
       "  </tbody>\n",
       "</table>\n",
       "<p>4 rows × 42 columns</p>\n",
       "</div>"
      ],
      "text/plain": [
       "                                            geometry  \\\n",
       "0  POLYGON ((-96.84938 33.42092, -96.87321 32.431...   \n",
       "1  POLYGON ((-96.81576 34.32217, -96.82780 34.277...   \n",
       "2  POLYGON ((-97.91284 34.33683, -97.92531 33.346...   \n",
       "3  POLYGON ((-97.06177 33.42442, -97.32332 32.437...   \n",
       "\n",
       "                    created     platform constellation instruments  \\\n",
       "0  2023-08-20T04:40:37.325Z  sentinel-2b    sentinel-2       [msi]   \n",
       "1  2023-08-20T04:44:38.807Z  sentinel-2b    sentinel-2       [msi]   \n",
       "2  2023-08-18T06:10:25.042Z  sentinel-2a    sentinel-2       [msi]   \n",
       "3  2023-08-15T04:07:22.379Z  sentinel-2a    sentinel-2       [msi]   \n",
       "\n",
       "   eo:cloud_cover  proj:epsg  mgrs:utm_zone mgrs:latitude_band  \\\n",
       "0        0.004539      32614             14                  S   \n",
       "1        0.076934      32614             14                  S   \n",
       "2        0.006437      32614             14                  S   \n",
       "3        0.014211      32614             14                  S   \n",
       "\n",
       "  mgrs:grid_square  ...                                    s2:datastrip_id  \\\n",
       "0               QB  ...  S2B_OPER_MSI_L2A_DS_2BPS_20230819T223356_S2023...   \n",
       "1               QC  ...  S2B_OPER_MSI_L2A_DS_2BPS_20230819T223356_S2023...   \n",
       "2               PC  ...  S2A_OPER_MSI_L2A_DS_2APS_20230818T002256_S2023...   \n",
       "3               PB  ...  S2A_OPER_MSI_L2A_DS_2APS_20230815T002553_S2023...   \n",
       "\n",
       "                                       s2:granule_id  \\\n",
       "0  S2B_OPER_MSI_L2A_TL_2BPS_20230819T223356_A0337...   \n",
       "1  S2B_OPER_MSI_L2A_TL_2BPS_20230819T223356_A0337...   \n",
       "2  S2A_OPER_MSI_L2A_TL_2APS_20230818T002256_A0425...   \n",
       "3  S2A_OPER_MSI_L2A_TL_2APS_20230815T002553_A0425...   \n",
       "\n",
       "   s2:reflectance_conversion_factor                     datetime  s2:sequence  \\\n",
       "0                          0.975198  2023-08-19T17:14:46.266000Z            0   \n",
       "1                          0.975198  2023-08-19T17:14:31.780000Z            0   \n",
       "2                          0.974489  2023-08-17T17:24:31.907000Z            0   \n",
       "3                          0.973476  2023-08-14T17:14:49.390000Z            0   \n",
       "\n",
       "                                 earthsearch:s3_path  \\\n",
       "0  s3://sentinel-cogs/sentinel-s2-l2a-cogs/14/S/Q...   \n",
       "1  s3://sentinel-cogs/sentinel-s2-l2a-cogs/14/S/Q...   \n",
       "2  s3://sentinel-cogs/sentinel-s2-l2a-cogs/14/S/P...   \n",
       "3  s3://sentinel-cogs/sentinel-s2-l2a-cogs/14/S/P...   \n",
       "\n",
       "                              earthsearch:payload_id  \\\n",
       "0  roda-sentinel2/workflow-sentinel2-to-stac/a707...   \n",
       "1  roda-sentinel2/workflow-sentinel2-to-stac/2524...   \n",
       "2  roda-sentinel2/workflow-sentinel2-to-stac/a898...   \n",
       "3  roda-sentinel2/workflow-sentinel2-to-stac/ccee...   \n",
       "\n",
       "   earthsearch:boa_offset_applied             processing:software  \\\n",
       "0                            True  {'sentinel2-to-stac': '0.1.1'}   \n",
       "1                            True  {'sentinel2-to-stac': '0.1.1'}   \n",
       "2                            True  {'sentinel2-to-stac': '0.1.1'}   \n",
       "3                            True  {'sentinel2-to-stac': '0.1.1'}   \n",
       "\n",
       "                    updated  \n",
       "0  2023-08-20T04:40:37.325Z  \n",
       "1  2023-08-20T04:44:38.807Z  \n",
       "2  2023-08-18T06:10:25.042Z  \n",
       "3  2023-08-15T04:07:22.379Z  \n",
       "\n",
       "[4 rows x 42 columns]"
      ]
     },
     "execution_count": 15,
     "metadata": {},
     "output_type": "execute_result"
    }
   ],
   "source": [
    "search_gdf2"
   ]
  },
  {
   "cell_type": "code",
   "execution_count": 16,
   "metadata": {},
   "outputs": [
    {
     "data": {
      "text/plain": [
       "<Axes: >"
      ]
     },
     "execution_count": 16,
     "metadata": {},
     "output_type": "execute_result"
    },
    {
     "data": {
      "image/png": "[encoded data removed]",
      "text/plain": [
       "<Figure size 640x480 with 1 Axes>"
      ]
     },
     "metadata": {},
     "output_type": "display_data"
    }
   ],
   "source": [
    "search_gdf2.plot(\"mgrs:grid_square\", alpha=0.5)"
   ]
  },
  {
   "cell_type": "markdown",
   "metadata": {},
   "source": [
    "### plot to accentuate paved and non-paved divide\n"
   ]
  },
  {
   "cell_type": "code",
   "execution_count": 17,
   "metadata": {},
   "outputs": [],
   "source": [
    "search_gdf2_list = leafmap.stac_search(\n",
    "    url=url,\n",
    "    max_items=4,\n",
    "    collections=[collection],\n",
    "    bbox=bbox,\n",
    "    datetime=time_range,\n",
    "    query=q,\n",
    "    get_links=True,\n",
    ")"
   ]
  },
  {
   "cell_type": "code",
   "execution_count": 18,
   "metadata": {},
   "outputs": [
    {
     "data": {
      "application/vnd.jupyter.widget-view+json": {
       "model_id": "45f0861784c34b2b924634d3afe04bd1",
       "version_major": 2,
       "version_minor": 0
      },
      "text/plain": [
       "Map(center=[20, 0], controls=(ZoomControl(options=['position', 'zoom_in_text', 'zoom_in_title', 'zoom_out_text…"
      ]
     },
     "execution_count": 18,
     "metadata": {},
     "output_type": "execute_result"
    }
   ],
   "source": [
    "m = leafmap.Map()\n",
    "\n",
    "for layer in search_gdf2_list:\n",
    "    m.add_stac_layer(layer, bands=[\"nir\", \"red\", \"green\"], name=layer.split(\"/\")[-1])\n",
    "m"
   ]
  },
  {
   "cell_type": "markdown",
   "metadata": {},
   "source": [
    "### download files for analysis\n"
   ]
  },
  {
   "cell_type": "code",
   "execution_count": 19,
   "metadata": {},
   "outputs": [],
   "source": [
    "def get_raster_band_urls(item: str, bands: list | None = None):\n",
    "    available_bands = leafmap.stac_bands(item)\n",
    "    stac = requests.get(item).json()\n",
    "    band_urls = {\n",
    "        x: stac[\"assets\"][x][\"href\"]\n",
    "        for x in available_bands\n",
    "        if stac[\"assets\"][x][\"href\"].startswith(\"http\")\n",
    "    }\n",
    "\n",
    "    # if bands, only return bands in list\n",
    "    if bands:\n",
    "        band_urls = {x: band_urls[x] for x in bands if x in band_urls}\n",
    "\n",
    "    return band_urls\n",
    "\n",
    "\n",
    "def download_stac_layers(layers, out_dir, bands=None):\n",
    "    for layer in layers:\n",
    "        band_urls = get_raster_band_urls(layer, bands)\n",
    "        for band, url in band_urls.items():\n",
    "            print(url)\n",
    "            out_file = f\"{out_dir}/{layer.split('/')[-1]}_{band}.tif\"\n",
    "            leafmap.download_file(url, out_file, overwrite=False)\n",
    "\n",
    "\n",
    "def get_stac_crs(item):\n",
    "    stac = requests.get(item).json()\n",
    "    return stac[\"properties\"][\"proj:epsg\"]"
   ]
  },
  {
   "cell_type": "code",
   "execution_count": 20,
   "metadata": {},
   "outputs": [],
   "source": [
    "stac_crs = get_stac_crs(search_gdf2_list[0])"
   ]
  },
  {
   "cell_type": "code",
   "execution_count": 21,
   "metadata": {},
   "outputs": [
    {
     "name": "stdout",
     "output_type": "stream",
     "text": [
      "https://sentinel-cogs.s3.us-west-2.amazonaws.com/sentinel-s2-l2a-cogs/14/S/QB/2023/8/S2B_14SQB_20230819_0_L2A/AOT.tif\n"
     ]
    },
    {
     "name": "stderr",
     "output_type": "stream",
     "text": [
      "Downloading...\n",
      "From: https://sentinel-cogs.s3.us-west-2.amazonaws.com/sentinel-s2-l2a-cogs/14/S/QB/2023/8/S2B_14SQB_20230819_0_L2A/AOT.tif\n",
      "To: /Users/sebastian/Locals/CDP/src/cdp-mapping-systems/Data/stac/dallas/S2B_14SQB_20230819_0_L2A_aot.tif\n",
      "100%|██████████| 269k/269k [00:00<00:00, 3.31MB/s]\n"
     ]
    },
    {
     "name": "stdout",
     "output_type": "stream",
     "text": [
      "https://sentinel-cogs.s3.us-west-2.amazonaws.com/sentinel-s2-l2a-cogs/14/S/QB/2023/8/S2B_14SQB_20230819_0_L2A/B02.tif\n"
     ]
    },
    {
     "name": "stderr",
     "output_type": "stream",
     "text": [
      "Downloading...\n",
      "From: https://sentinel-cogs.s3.us-west-2.amazonaws.com/sentinel-s2-l2a-cogs/14/S/QB/2023/8/S2B_14SQB_20230819_0_L2A/B02.tif\n",
      "To: /Users/sebastian/Locals/CDP/src/cdp-mapping-systems/Data/stac/dallas/S2B_14SQB_20230819_0_L2A_blue.tif\n",
      "100%|██████████| 223M/223M [00:22<00:00, 9.89MB/s] \n"
     ]
    },
    {
     "name": "stdout",
     "output_type": "stream",
     "text": [
      "https://sentinel-cogs.s3.us-west-2.amazonaws.com/sentinel-s2-l2a-cogs/14/S/QB/2023/8/S2B_14SQB_20230819_0_L2A/B01.tif\n"
     ]
    },
    {
     "name": "stderr",
     "output_type": "stream",
     "text": [
      "Downloading...\n",
      "From: https://sentinel-cogs.s3.us-west-2.amazonaws.com/sentinel-s2-l2a-cogs/14/S/QB/2023/8/S2B_14SQB_20230819_0_L2A/B01.tif\n",
      "To: /Users/sebastian/Locals/CDP/src/cdp-mapping-systems/Data/stac/dallas/S2B_14SQB_20230819_0_L2A_coastal.tif\n",
      "100%|██████████| 6.25M/6.25M [00:01<00:00, 6.25MB/s]\n"
     ]
    },
    {
     "name": "stdout",
     "output_type": "stream",
     "text": [
      "https://sentinel-cogs.s3.us-west-2.amazonaws.com/sentinel-s2-l2a-cogs/14/S/QB/2023/8/S2B_14SQB_20230819_0_L2A/B03.tif\n"
     ]
    },
    {
     "name": "stderr",
     "output_type": "stream",
     "text": [
      "Downloading...\n",
      "From: https://sentinel-cogs.s3.us-west-2.amazonaws.com/sentinel-s2-l2a-cogs/14/S/QB/2023/8/S2B_14SQB_20230819_0_L2A/B03.tif\n",
      "To: /Users/sebastian/Locals/CDP/src/cdp-mapping-systems/Data/stac/dallas/S2B_14SQB_20230819_0_L2A_green.tif\n",
      "100%|██████████| 224M/224M [00:29<00:00, 7.57MB/s] \n"
     ]
    },
    {
     "name": "stdout",
     "output_type": "stream",
     "text": [
      "https://sentinel-cogs.s3.us-west-2.amazonaws.com/sentinel-s2-l2a-cogs/14/S/QB/2023/8/S2B_14SQB_20230819_0_L2A/B08.tif\n"
     ]
    },
    {
     "name": "stderr",
     "output_type": "stream",
     "text": [
      "Downloading...\n",
      "From: https://sentinel-cogs.s3.us-west-2.amazonaws.com/sentinel-s2-l2a-cogs/14/S/QB/2023/8/S2B_14SQB_20230819_0_L2A/B08.tif\n",
      "To: /Users/sebastian/Locals/CDP/src/cdp-mapping-systems/Data/stac/dallas/S2B_14SQB_20230819_0_L2A_nir.tif\n",
      "100%|██████████| 241M/241M [00:31<00:00, 7.71MB/s] \n"
     ]
    },
    {
     "name": "stdout",
     "output_type": "stream",
     "text": [
      "https://sentinel-cogs.s3.us-west-2.amazonaws.com/sentinel-s2-l2a-cogs/14/S/QB/2023/8/S2B_14SQB_20230819_0_L2A/B8A.tif\n"
     ]
    },
    {
     "name": "stderr",
     "output_type": "stream",
     "text": [
      "Downloading...\n",
      "From: https://sentinel-cogs.s3.us-west-2.amazonaws.com/sentinel-s2-l2a-cogs/14/S/QB/2023/8/S2B_14SQB_20230819_0_L2A/B8A.tif\n",
      "To: /Users/sebastian/Locals/CDP/src/cdp-mapping-systems/Data/stac/dallas/S2B_14SQB_20230819_0_L2A_nir08.tif\n",
      "100%|██████████| 61.6M/61.6M [00:04<00:00, 14.4MB/s]\n"
     ]
    },
    {
     "name": "stdout",
     "output_type": "stream",
     "text": [
      "https://sentinel-cogs.s3.us-west-2.amazonaws.com/sentinel-s2-l2a-cogs/14/S/QB/2023/8/S2B_14SQB_20230819_0_L2A/B09.tif\n"
     ]
    },
    {
     "name": "stderr",
     "output_type": "stream",
     "text": [
      "Downloading...\n",
      "From: https://sentinel-cogs.s3.us-west-2.amazonaws.com/sentinel-s2-l2a-cogs/14/S/QB/2023/8/S2B_14SQB_20230819_0_L2A/B09.tif\n",
      "To: /Users/sebastian/Locals/CDP/src/cdp-mapping-systems/Data/stac/dallas/S2B_14SQB_20230819_0_L2A_nir09.tif\n",
      "100%|██████████| 6.90M/6.90M [00:08<00:00, 791kB/s] \n"
     ]
    },
    {
     "name": "stdout",
     "output_type": "stream",
     "text": [
      "https://sentinel-cogs.s3.us-west-2.amazonaws.com/sentinel-s2-l2a-cogs/14/S/QB/2023/8/S2B_14SQB_20230819_0_L2A/B04.tif\n"
     ]
    },
    {
     "name": "stderr",
     "output_type": "stream",
     "text": [
      "Downloading...\n",
      "From: https://sentinel-cogs.s3.us-west-2.amazonaws.com/sentinel-s2-l2a-cogs/14/S/QB/2023/8/S2B_14SQB_20230819_0_L2A/B04.tif\n",
      "To: /Users/sebastian/Locals/CDP/src/cdp-mapping-systems/Data/stac/dallas/S2B_14SQB_20230819_0_L2A_red.tif\n",
      "100%|██████████| 232M/232M [00:26<00:00, 8.64MB/s] \n"
     ]
    },
    {
     "name": "stdout",
     "output_type": "stream",
     "text": [
      "https://sentinel-cogs.s3.us-west-2.amazonaws.com/sentinel-s2-l2a-cogs/14/S/QB/2023/8/S2B_14SQB_20230819_0_L2A/B05.tif\n"
     ]
    },
    {
     "name": "stderr",
     "output_type": "stream",
     "text": [
      "Downloading...\n",
      "From: https://sentinel-cogs.s3.us-west-2.amazonaws.com/sentinel-s2-l2a-cogs/14/S/QB/2023/8/S2B_14SQB_20230819_0_L2A/B05.tif\n",
      "To: /Users/sebastian/Locals/CDP/src/cdp-mapping-systems/Data/stac/dallas/S2B_14SQB_20230819_0_L2A_rededge1.tif\n",
      "100%|██████████| 61.1M/61.1M [00:13<00:00, 4.65MB/s]\n"
     ]
    },
    {
     "name": "stdout",
     "output_type": "stream",
     "text": [
      "https://sentinel-cogs.s3.us-west-2.amazonaws.com/sentinel-s2-l2a-cogs/14/S/QB/2023/8/S2B_14SQB_20230819_0_L2A/B06.tif\n"
     ]
    },
    {
     "name": "stderr",
     "output_type": "stream",
     "text": [
      "Downloading...\n",
      "From: https://sentinel-cogs.s3.us-west-2.amazonaws.com/sentinel-s2-l2a-cogs/14/S/QB/2023/8/S2B_14SQB_20230819_0_L2A/B06.tif\n",
      "To: /Users/sebastian/Locals/CDP/src/cdp-mapping-systems/Data/stac/dallas/S2B_14SQB_20230819_0_L2A_rededge2.tif\n",
      "100%|██████████| 60.6M/60.6M [00:11<00:00, 5.21MB/s]\n"
     ]
    },
    {
     "name": "stdout",
     "output_type": "stream",
     "text": [
      "https://sentinel-cogs.s3.us-west-2.amazonaws.com/sentinel-s2-l2a-cogs/14/S/QB/2023/8/S2B_14SQB_20230819_0_L2A/B07.tif\n"
     ]
    },
    {
     "name": "stderr",
     "output_type": "stream",
     "text": [
      "Downloading...\n",
      "From: https://sentinel-cogs.s3.us-west-2.amazonaws.com/sentinel-s2-l2a-cogs/14/S/QB/2023/8/S2B_14SQB_20230819_0_L2A/B07.tif\n",
      "To: /Users/sebastian/Locals/CDP/src/cdp-mapping-systems/Data/stac/dallas/S2B_14SQB_20230819_0_L2A_rededge3.tif\n",
      "100%|██████████| 61.3M/61.3M [00:10<00:00, 5.71MB/s]\n"
     ]
    },
    {
     "name": "stdout",
     "output_type": "stream",
     "text": [
      "https://sentinel-cogs.s3.us-west-2.amazonaws.com/sentinel-s2-l2a-cogs/14/S/QB/2023/8/S2B_14SQB_20230819_0_L2A/SCL.tif\n"
     ]
    },
    {
     "name": "stderr",
     "output_type": "stream",
     "text": [
      "Downloading...\n",
      "From: https://sentinel-cogs.s3.us-west-2.amazonaws.com/sentinel-s2-l2a-cogs/14/S/QB/2023/8/S2B_14SQB_20230819_0_L2A/SCL.tif\n",
      "To: /Users/sebastian/Locals/CDP/src/cdp-mapping-systems/Data/stac/dallas/S2B_14SQB_20230819_0_L2A_scl.tif\n",
      "100%|██████████| 4.66M/4.66M [00:00<00:00, 6.00MB/s]\n"
     ]
    },
    {
     "name": "stdout",
     "output_type": "stream",
     "text": [
      "https://sentinel-cogs.s3.us-west-2.amazonaws.com/sentinel-s2-l2a-cogs/14/S/QB/2023/8/S2B_14SQB_20230819_0_L2A/B11.tif\n"
     ]
    },
    {
     "name": "stderr",
     "output_type": "stream",
     "text": [
      "Downloading...\n",
      "From: https://sentinel-cogs.s3.us-west-2.amazonaws.com/sentinel-s2-l2a-cogs/14/S/QB/2023/8/S2B_14SQB_20230819_0_L2A/B11.tif\n",
      "To: /Users/sebastian/Locals/CDP/src/cdp-mapping-systems/Data/stac/dallas/S2B_14SQB_20230819_0_L2A_swir16.tif\n",
      "100%|██████████| 62.7M/62.7M [00:06<00:00, 9.79MB/s]\n"
     ]
    },
    {
     "name": "stdout",
     "output_type": "stream",
     "text": [
      "https://sentinel-cogs.s3.us-west-2.amazonaws.com/sentinel-s2-l2a-cogs/14/S/QB/2023/8/S2B_14SQB_20230819_0_L2A/B12.tif\n"
     ]
    },
    {
     "name": "stderr",
     "output_type": "stream",
     "text": [
      "Downloading...\n",
      "From: https://sentinel-cogs.s3.us-west-2.amazonaws.com/sentinel-s2-l2a-cogs/14/S/QB/2023/8/S2B_14SQB_20230819_0_L2A/B12.tif\n",
      "To: /Users/sebastian/Locals/CDP/src/cdp-mapping-systems/Data/stac/dallas/S2B_14SQB_20230819_0_L2A_swir22.tif\n",
      "100%|██████████| 62.0M/62.0M [00:04<00:00, 13.1MB/s]\n"
     ]
    },
    {
     "name": "stdout",
     "output_type": "stream",
     "text": [
      "https://sentinel-cogs.s3.us-west-2.amazonaws.com/sentinel-s2-l2a-cogs/14/S/QB/2023/8/S2B_14SQB_20230819_0_L2A/TCI.tif\n"
     ]
    },
    {
     "name": "stderr",
     "output_type": "stream",
     "text": [
      "Downloading...\n",
      "From: https://sentinel-cogs.s3.us-west-2.amazonaws.com/sentinel-s2-l2a-cogs/14/S/QB/2023/8/S2B_14SQB_20230819_0_L2A/TCI.tif\n",
      "To: /Users/sebastian/Locals/CDP/src/cdp-mapping-systems/Data/stac/dallas/S2B_14SQB_20230819_0_L2A_visual.tif\n",
      "100%|██████████| 355M/355M [00:36<00:00, 9.70MB/s] \n"
     ]
    },
    {
     "name": "stdout",
     "output_type": "stream",
     "text": [
      "https://sentinel-cogs.s3.us-west-2.amazonaws.com/sentinel-s2-l2a-cogs/14/S/QB/2023/8/S2B_14SQB_20230819_0_L2A/WVP.tif\n"
     ]
    },
    {
     "name": "stderr",
     "output_type": "stream",
     "text": [
      "Downloading...\n",
      "From: https://sentinel-cogs.s3.us-west-2.amazonaws.com/sentinel-s2-l2a-cogs/14/S/QB/2023/8/S2B_14SQB_20230819_0_L2A/WVP.tif\n",
      "To: /Users/sebastian/Locals/CDP/src/cdp-mapping-systems/Data/stac/dallas/S2B_14SQB_20230819_0_L2A_wvp.tif\n",
      "100%|██████████| 97.1M/97.1M [00:10<00:00, 9.22MB/s]\n"
     ]
    },
    {
     "name": "stdout",
     "output_type": "stream",
     "text": [
      "https://sentinel-cogs.s3.us-west-2.amazonaws.com/sentinel-s2-l2a-cogs/14/S/QC/2023/8/S2B_14SQC_20230819_0_L2A/AOT.tif\n"
     ]
    },
    {
     "name": "stderr",
     "output_type": "stream",
     "text": [
      "Downloading...\n",
      "From: https://sentinel-cogs.s3.us-west-2.amazonaws.com/sentinel-s2-l2a-cogs/14/S/QC/2023/8/S2B_14SQC_20230819_0_L2A/AOT.tif\n",
      "To: /Users/sebastian/Locals/CDP/src/cdp-mapping-systems/Data/stac/dallas/S2B_14SQC_20230819_0_L2A_aot.tif\n",
      "100%|██████████| 191k/191k [00:00<00:00, 517kB/s]\n"
     ]
    },
    {
     "name": "stdout",
     "output_type": "stream",
     "text": [
      "https://sentinel-cogs.s3.us-west-2.amazonaws.com/sentinel-s2-l2a-cogs/14/S/QC/2023/8/S2B_14SQC_20230819_0_L2A/B02.tif\n"
     ]
    },
    {
     "name": "stderr",
     "output_type": "stream",
     "text": [
      "Downloading...\n",
      "From: https://sentinel-cogs.s3.us-west-2.amazonaws.com/sentinel-s2-l2a-cogs/14/S/QC/2023/8/S2B_14SQC_20230819_0_L2A/B02.tif\n",
      "To: /Users/sebastian/Locals/CDP/src/cdp-mapping-systems/Data/stac/dallas/S2B_14SQC_20230819_0_L2A_blue.tif\n",
      "100%|██████████| 211M/211M [00:29<00:00, 7.19MB/s] \n"
     ]
    },
    {
     "name": "stdout",
     "output_type": "stream",
     "text": [
      "https://sentinel-cogs.s3.us-west-2.amazonaws.com/sentinel-s2-l2a-cogs/14/S/QC/2023/8/S2B_14SQC_20230819_0_L2A/B01.tif\n"
     ]
    },
    {
     "name": "stderr",
     "output_type": "stream",
     "text": [
      "Downloading...\n",
      "From: https://sentinel-cogs.s3.us-west-2.amazonaws.com/sentinel-s2-l2a-cogs/14/S/QC/2023/8/S2B_14SQC_20230819_0_L2A/B01.tif\n",
      "To: /Users/sebastian/Locals/CDP/src/cdp-mapping-systems/Data/stac/dallas/S2B_14SQC_20230819_0_L2A_coastal.tif\n",
      "100%|██████████| 5.95M/5.95M [00:00<00:00, 6.84MB/s]\n"
     ]
    },
    {
     "name": "stdout",
     "output_type": "stream",
     "text": [
      "https://sentinel-cogs.s3.us-west-2.amazonaws.com/sentinel-s2-l2a-cogs/14/S/QC/2023/8/S2B_14SQC_20230819_0_L2A/B03.tif\n"
     ]
    },
    {
     "name": "stderr",
     "output_type": "stream",
     "text": [
      "Downloading...\n",
      "From: https://sentinel-cogs.s3.us-west-2.amazonaws.com/sentinel-s2-l2a-cogs/14/S/QC/2023/8/S2B_14SQC_20230819_0_L2A/B03.tif\n",
      "To: /Users/sebastian/Locals/CDP/src/cdp-mapping-systems/Data/stac/dallas/S2B_14SQC_20230819_0_L2A_green.tif\n",
      "100%|██████████| 215M/215M [00:21<00:00, 9.84MB/s] \n"
     ]
    },
    {
     "name": "stdout",
     "output_type": "stream",
     "text": [
      "https://sentinel-cogs.s3.us-west-2.amazonaws.com/sentinel-s2-l2a-cogs/14/S/QC/2023/8/S2B_14SQC_20230819_0_L2A/B08.tif\n"
     ]
    },
    {
     "name": "stderr",
     "output_type": "stream",
     "text": [
      "Downloading...\n",
      "From: https://sentinel-cogs.s3.us-west-2.amazonaws.com/sentinel-s2-l2a-cogs/14/S/QC/2023/8/S2B_14SQC_20230819_0_L2A/B08.tif\n",
      "To: /Users/sebastian/Locals/CDP/src/cdp-mapping-systems/Data/stac/dallas/S2B_14SQC_20230819_0_L2A_nir.tif\n",
      "100%|██████████| 228M/228M [00:26<00:00, 8.68MB/s] \n"
     ]
    },
    {
     "name": "stdout",
     "output_type": "stream",
     "text": [
      "https://sentinel-cogs.s3.us-west-2.amazonaws.com/sentinel-s2-l2a-cogs/14/S/QC/2023/8/S2B_14SQC_20230819_0_L2A/B8A.tif\n"
     ]
    },
    {
     "name": "stderr",
     "output_type": "stream",
     "text": [
      "Downloading...\n",
      "From: https://sentinel-cogs.s3.us-west-2.amazonaws.com/sentinel-s2-l2a-cogs/14/S/QC/2023/8/S2B_14SQC_20230819_0_L2A/B8A.tif\n",
      "To: /Users/sebastian/Locals/CDP/src/cdp-mapping-systems/Data/stac/dallas/S2B_14SQC_20230819_0_L2A_nir08.tif\n",
      "100%|██████████| 60.8M/60.8M [00:08<00:00, 6.86MB/s]\n"
     ]
    },
    {
     "name": "stdout",
     "output_type": "stream",
     "text": [
      "https://sentinel-cogs.s3.us-west-2.amazonaws.com/sentinel-s2-l2a-cogs/14/S/QC/2023/8/S2B_14SQC_20230819_0_L2A/B09.tif\n"
     ]
    },
    {
     "name": "stderr",
     "output_type": "stream",
     "text": [
      "Downloading...\n",
      "From: https://sentinel-cogs.s3.us-west-2.amazonaws.com/sentinel-s2-l2a-cogs/14/S/QC/2023/8/S2B_14SQC_20230819_0_L2A/B09.tif\n",
      "To: /Users/sebastian/Locals/CDP/src/cdp-mapping-systems/Data/stac/dallas/S2B_14SQC_20230819_0_L2A_nir09.tif\n",
      "100%|██████████| 6.84M/6.84M [00:01<00:00, 4.06MB/s]\n"
     ]
    },
    {
     "name": "stdout",
     "output_type": "stream",
     "text": [
      "https://sentinel-cogs.s3.us-west-2.amazonaws.com/sentinel-s2-l2a-cogs/14/S/QC/2023/8/S2B_14SQC_20230819_0_L2A/B04.tif\n"
     ]
    },
    {
     "name": "stderr",
     "output_type": "stream",
     "text": [
      "Downloading...\n",
      "From: https://sentinel-cogs.s3.us-west-2.amazonaws.com/sentinel-s2-l2a-cogs/14/S/QC/2023/8/S2B_14SQC_20230819_0_L2A/B04.tif\n",
      "To: /Users/sebastian/Locals/CDP/src/cdp-mapping-systems/Data/stac/dallas/S2B_14SQC_20230819_0_L2A_red.tif\n",
      "100%|██████████| 225M/225M [00:23<00:00, 9.73MB/s] \n"
     ]
    },
    {
     "name": "stdout",
     "output_type": "stream",
     "text": [
      "https://sentinel-cogs.s3.us-west-2.amazonaws.com/sentinel-s2-l2a-cogs/14/S/QC/2023/8/S2B_14SQC_20230819_0_L2A/B05.tif\n"
     ]
    },
    {
     "name": "stderr",
     "output_type": "stream",
     "text": [
      "Downloading...\n",
      "From: https://sentinel-cogs.s3.us-west-2.amazonaws.com/sentinel-s2-l2a-cogs/14/S/QC/2023/8/S2B_14SQC_20230819_0_L2A/B05.tif\n",
      "To: /Users/sebastian/Locals/CDP/src/cdp-mapping-systems/Data/stac/dallas/S2B_14SQC_20230819_0_L2A_rededge1.tif\n",
      "100%|██████████| 59.3M/59.3M [00:10<00:00, 5.46MB/s]\n"
     ]
    },
    {
     "name": "stdout",
     "output_type": "stream",
     "text": [
      "https://sentinel-cogs.s3.us-west-2.amazonaws.com/sentinel-s2-l2a-cogs/14/S/QC/2023/8/S2B_14SQC_20230819_0_L2A/B06.tif\n"
     ]
    },
    {
     "name": "stderr",
     "output_type": "stream",
     "text": [
      "Downloading...\n",
      "From: https://sentinel-cogs.s3.us-west-2.amazonaws.com/sentinel-s2-l2a-cogs/14/S/QC/2023/8/S2B_14SQC_20230819_0_L2A/B06.tif\n",
      "To: /Users/sebastian/Locals/CDP/src/cdp-mapping-systems/Data/stac/dallas/S2B_14SQC_20230819_0_L2A_rededge2.tif\n",
      "100%|██████████| 59.4M/59.4M [00:20<00:00, 2.85MB/s]\n"
     ]
    },
    {
     "name": "stdout",
     "output_type": "stream",
     "text": [
      "https://sentinel-cogs.s3.us-west-2.amazonaws.com/sentinel-s2-l2a-cogs/14/S/QC/2023/8/S2B_14SQC_20230819_0_L2A/B07.tif\n"
     ]
    },
    {
     "name": "stderr",
     "output_type": "stream",
     "text": [
      "Downloading...\n",
      "From: https://sentinel-cogs.s3.us-west-2.amazonaws.com/sentinel-s2-l2a-cogs/14/S/QC/2023/8/S2B_14SQC_20230819_0_L2A/B07.tif\n",
      "To: /Users/sebastian/Locals/CDP/src/cdp-mapping-systems/Data/stac/dallas/S2B_14SQC_20230819_0_L2A_rededge3.tif\n",
      "100%|██████████| 60.6M/60.6M [00:07<00:00, 8.31MB/s]\n"
     ]
    },
    {
     "name": "stdout",
     "output_type": "stream",
     "text": [
      "https://sentinel-cogs.s3.us-west-2.amazonaws.com/sentinel-s2-l2a-cogs/14/S/QC/2023/8/S2B_14SQC_20230819_0_L2A/SCL.tif\n"
     ]
    },
    {
     "name": "stderr",
     "output_type": "stream",
     "text": [
      "Downloading...\n",
      "From: https://sentinel-cogs.s3.us-west-2.amazonaws.com/sentinel-s2-l2a-cogs/14/S/QC/2023/8/S2B_14SQC_20230819_0_L2A/SCL.tif\n",
      "To: /Users/sebastian/Locals/CDP/src/cdp-mapping-systems/Data/stac/dallas/S2B_14SQC_20230819_0_L2A_scl.tif\n",
      "100%|██████████| 3.84M/3.84M [00:00<00:00, 5.28MB/s]\n"
     ]
    },
    {
     "name": "stdout",
     "output_type": "stream",
     "text": [
      "https://sentinel-cogs.s3.us-west-2.amazonaws.com/sentinel-s2-l2a-cogs/14/S/QC/2023/8/S2B_14SQC_20230819_0_L2A/B11.tif\n"
     ]
    },
    {
     "name": "stderr",
     "output_type": "stream",
     "text": [
      "Downloading...\n",
      "From: https://sentinel-cogs.s3.us-west-2.amazonaws.com/sentinel-s2-l2a-cogs/14/S/QC/2023/8/S2B_14SQC_20230819_0_L2A/B11.tif\n",
      "To: /Users/sebastian/Locals/CDP/src/cdp-mapping-systems/Data/stac/dallas/S2B_14SQC_20230819_0_L2A_swir16.tif\n",
      "100%|██████████| 61.9M/61.9M [00:06<00:00, 9.50MB/s]\n"
     ]
    },
    {
     "name": "stdout",
     "output_type": "stream",
     "text": [
      "https://sentinel-cogs.s3.us-west-2.amazonaws.com/sentinel-s2-l2a-cogs/14/S/QC/2023/8/S2B_14SQC_20230819_0_L2A/B12.tif\n"
     ]
    },
    {
     "name": "stderr",
     "output_type": "stream",
     "text": [
      "Downloading...\n",
      "From: https://sentinel-cogs.s3.us-west-2.amazonaws.com/sentinel-s2-l2a-cogs/14/S/QC/2023/8/S2B_14SQC_20230819_0_L2A/B12.tif\n",
      "To: /Users/sebastian/Locals/CDP/src/cdp-mapping-systems/Data/stac/dallas/S2B_14SQC_20230819_0_L2A_swir22.tif\n",
      "100%|██████████| 61.2M/61.2M [00:06<00:00, 9.51MB/s]\n"
     ]
    },
    {
     "name": "stdout",
     "output_type": "stream",
     "text": [
      "https://sentinel-cogs.s3.us-west-2.amazonaws.com/sentinel-s2-l2a-cogs/14/S/QC/2023/8/S2B_14SQC_20230819_0_L2A/TCI.tif\n"
     ]
    },
    {
     "name": "stderr",
     "output_type": "stream",
     "text": [
      "Downloading...\n",
      "From: https://sentinel-cogs.s3.us-west-2.amazonaws.com/sentinel-s2-l2a-cogs/14/S/QC/2023/8/S2B_14SQC_20230819_0_L2A/TCI.tif\n",
      "To: /Users/sebastian/Locals/CDP/src/cdp-mapping-systems/Data/stac/dallas/S2B_14SQC_20230819_0_L2A_visual.tif\n",
      "100%|██████████| 327M/327M [00:34<00:00, 9.40MB/s] \n"
     ]
    },
    {
     "name": "stdout",
     "output_type": "stream",
     "text": [
      "https://sentinel-cogs.s3.us-west-2.amazonaws.com/sentinel-s2-l2a-cogs/14/S/QC/2023/8/S2B_14SQC_20230819_0_L2A/WVP.tif\n"
     ]
    },
    {
     "name": "stderr",
     "output_type": "stream",
     "text": [
      "Downloading...\n",
      "From: https://sentinel-cogs.s3.us-west-2.amazonaws.com/sentinel-s2-l2a-cogs/14/S/QC/2023/8/S2B_14SQC_20230819_0_L2A/WVP.tif\n",
      "To: /Users/sebastian/Locals/CDP/src/cdp-mapping-systems/Data/stac/dallas/S2B_14SQC_20230819_0_L2A_wvp.tif\n",
      "100%|██████████| 95.9M/95.9M [00:14<00:00, 6.75MB/s]\n"
     ]
    },
    {
     "name": "stdout",
     "output_type": "stream",
     "text": [
      "https://sentinel-cogs.s3.us-west-2.amazonaws.com/sentinel-s2-l2a-cogs/14/S/PC/2023/8/S2A_14SPC_20230817_0_L2A/AOT.tif\n"
     ]
    },
    {
     "name": "stderr",
     "output_type": "stream",
     "text": [
      "Downloading...\n",
      "From: https://sentinel-cogs.s3.us-west-2.amazonaws.com/sentinel-s2-l2a-cogs/14/S/PC/2023/8/S2A_14SPC_20230817_0_L2A/AOT.tif\n",
      "To: /Users/sebastian/Locals/CDP/src/cdp-mapping-systems/Data/stac/dallas/S2A_14SPC_20230817_0_L2A_aot.tif\n",
      "100%|██████████| 200k/200k [00:00<00:00, 533kB/s]\n"
     ]
    },
    {
     "name": "stdout",
     "output_type": "stream",
     "text": [
      "https://sentinel-cogs.s3.us-west-2.amazonaws.com/sentinel-s2-l2a-cogs/14/S/PC/2023/8/S2A_14SPC_20230817_0_L2A/B02.tif\n"
     ]
    },
    {
     "name": "stderr",
     "output_type": "stream",
     "text": [
      "Downloading...\n",
      "From: https://sentinel-cogs.s3.us-west-2.amazonaws.com/sentinel-s2-l2a-cogs/14/S/PC/2023/8/S2A_14SPC_20230817_0_L2A/B02.tif\n",
      "To: /Users/sebastian/Locals/CDP/src/cdp-mapping-systems/Data/stac/dallas/S2A_14SPC_20230817_0_L2A_blue.tif\n",
      "100%|██████████| 217M/217M [00:26<00:00, 8.03MB/s] \n"
     ]
    },
    {
     "name": "stdout",
     "output_type": "stream",
     "text": [
      "https://sentinel-cogs.s3.us-west-2.amazonaws.com/sentinel-s2-l2a-cogs/14/S/PC/2023/8/S2A_14SPC_20230817_0_L2A/B01.tif\n"
     ]
    },
    {
     "name": "stderr",
     "output_type": "stream",
     "text": [
      "Downloading...\n",
      "From: https://sentinel-cogs.s3.us-west-2.amazonaws.com/sentinel-s2-l2a-cogs/14/S/PC/2023/8/S2A_14SPC_20230817_0_L2A/B01.tif\n",
      "To: /Users/sebastian/Locals/CDP/src/cdp-mapping-systems/Data/stac/dallas/S2A_14SPC_20230817_0_L2A_coastal.tif\n",
      "100%|██████████| 6.08M/6.08M [00:00<00:00, 7.47MB/s]\n"
     ]
    },
    {
     "name": "stdout",
     "output_type": "stream",
     "text": [
      "https://sentinel-cogs.s3.us-west-2.amazonaws.com/sentinel-s2-l2a-cogs/14/S/PC/2023/8/S2A_14SPC_20230817_0_L2A/B03.tif\n"
     ]
    },
    {
     "name": "stderr",
     "output_type": "stream",
     "text": [
      "Downloading...\n",
      "From: https://sentinel-cogs.s3.us-west-2.amazonaws.com/sentinel-s2-l2a-cogs/14/S/PC/2023/8/S2A_14SPC_20230817_0_L2A/B03.tif\n",
      "To: /Users/sebastian/Locals/CDP/src/cdp-mapping-systems/Data/stac/dallas/S2A_14SPC_20230817_0_L2A_green.tif\n",
      "100%|██████████| 219M/219M [00:31<00:00, 6.95MB/s] \n"
     ]
    },
    {
     "name": "stdout",
     "output_type": "stream",
     "text": [
      "https://sentinel-cogs.s3.us-west-2.amazonaws.com/sentinel-s2-l2a-cogs/14/S/PC/2023/8/S2A_14SPC_20230817_0_L2A/B08.tif\n"
     ]
    },
    {
     "name": "stderr",
     "output_type": "stream",
     "text": [
      "Downloading...\n",
      "From: https://sentinel-cogs.s3.us-west-2.amazonaws.com/sentinel-s2-l2a-cogs/14/S/PC/2023/8/S2A_14SPC_20230817_0_L2A/B08.tif\n",
      "To: /Users/sebastian/Locals/CDP/src/cdp-mapping-systems/Data/stac/dallas/S2A_14SPC_20230817_0_L2A_nir.tif\n",
      "100%|██████████| 226M/226M [00:24<00:00, 9.11MB/s] \n"
     ]
    },
    {
     "name": "stdout",
     "output_type": "stream",
     "text": [
      "https://sentinel-cogs.s3.us-west-2.amazonaws.com/sentinel-s2-l2a-cogs/14/S/PC/2023/8/S2A_14SPC_20230817_0_L2A/B8A.tif\n"
     ]
    },
    {
     "name": "stderr",
     "output_type": "stream",
     "text": [
      "Downloading...\n",
      "From: https://sentinel-cogs.s3.us-west-2.amazonaws.com/sentinel-s2-l2a-cogs/14/S/PC/2023/8/S2A_14SPC_20230817_0_L2A/B8A.tif\n",
      "To: /Users/sebastian/Locals/CDP/src/cdp-mapping-systems/Data/stac/dallas/S2A_14SPC_20230817_0_L2A_nir08.tif\n",
      "100%|██████████| 60.4M/60.4M [00:07<00:00, 7.95MB/s]\n"
     ]
    },
    {
     "name": "stdout",
     "output_type": "stream",
     "text": [
      "https://sentinel-cogs.s3.us-west-2.amazonaws.com/sentinel-s2-l2a-cogs/14/S/PC/2023/8/S2A_14SPC_20230817_0_L2A/B09.tif\n"
     ]
    },
    {
     "name": "stderr",
     "output_type": "stream",
     "text": [
      "Downloading...\n",
      "From: https://sentinel-cogs.s3.us-west-2.amazonaws.com/sentinel-s2-l2a-cogs/14/S/PC/2023/8/S2A_14SPC_20230817_0_L2A/B09.tif\n",
      "To: /Users/sebastian/Locals/CDP/src/cdp-mapping-systems/Data/stac/dallas/S2A_14SPC_20230817_0_L2A_nir09.tif\n",
      "100%|██████████| 6.78M/6.78M [00:01<00:00, 4.89MB/s]\n"
     ]
    },
    {
     "name": "stdout",
     "output_type": "stream",
     "text": [
      "https://sentinel-cogs.s3.us-west-2.amazonaws.com/sentinel-s2-l2a-cogs/14/S/PC/2023/8/S2A_14SPC_20230817_0_L2A/B04.tif\n"
     ]
    },
    {
     "name": "stderr",
     "output_type": "stream",
     "text": [
      "Downloading...\n",
      "From: https://sentinel-cogs.s3.us-west-2.amazonaws.com/sentinel-s2-l2a-cogs/14/S/PC/2023/8/S2A_14SPC_20230817_0_L2A/B04.tif\n",
      "To: /Users/sebastian/Locals/CDP/src/cdp-mapping-systems/Data/stac/dallas/S2A_14SPC_20230817_0_L2A_red.tif\n",
      "100%|██████████| 228M/228M [00:23<00:00, 9.88MB/s] \n"
     ]
    },
    {
     "name": "stdout",
     "output_type": "stream",
     "text": [
      "https://sentinel-cogs.s3.us-west-2.amazonaws.com/sentinel-s2-l2a-cogs/14/S/PC/2023/8/S2A_14SPC_20230817_0_L2A/B05.tif\n"
     ]
    },
    {
     "name": "stderr",
     "output_type": "stream",
     "text": [
      "Downloading...\n",
      "From: https://sentinel-cogs.s3.us-west-2.amazonaws.com/sentinel-s2-l2a-cogs/14/S/PC/2023/8/S2A_14SPC_20230817_0_L2A/B05.tif\n",
      "To: /Users/sebastian/Locals/CDP/src/cdp-mapping-systems/Data/stac/dallas/S2A_14SPC_20230817_0_L2A_rededge1.tif\n",
      "100%|██████████| 60.0M/60.0M [00:04<00:00, 12.4MB/s]\n"
     ]
    },
    {
     "name": "stdout",
     "output_type": "stream",
     "text": [
      "https://sentinel-cogs.s3.us-west-2.amazonaws.com/sentinel-s2-l2a-cogs/14/S/PC/2023/8/S2A_14SPC_20230817_0_L2A/B06.tif\n"
     ]
    },
    {
     "name": "stderr",
     "output_type": "stream",
     "text": [
      "Downloading...\n",
      "From: https://sentinel-cogs.s3.us-west-2.amazonaws.com/sentinel-s2-l2a-cogs/14/S/PC/2023/8/S2A_14SPC_20230817_0_L2A/B06.tif\n",
      "To: /Users/sebastian/Locals/CDP/src/cdp-mapping-systems/Data/stac/dallas/S2A_14SPC_20230817_0_L2A_rededge2.tif\n",
      "100%|██████████| 59.6M/59.6M [00:19<00:00, 3.08MB/s]\n"
     ]
    },
    {
     "name": "stdout",
     "output_type": "stream",
     "text": [
      "https://sentinel-cogs.s3.us-west-2.amazonaws.com/sentinel-s2-l2a-cogs/14/S/PC/2023/8/S2A_14SPC_20230817_0_L2A/B07.tif\n"
     ]
    },
    {
     "name": "stderr",
     "output_type": "stream",
     "text": [
      "Downloading...\n",
      "From: https://sentinel-cogs.s3.us-west-2.amazonaws.com/sentinel-s2-l2a-cogs/14/S/PC/2023/8/S2A_14SPC_20230817_0_L2A/B07.tif\n",
      "To: /Users/sebastian/Locals/CDP/src/cdp-mapping-systems/Data/stac/dallas/S2A_14SPC_20230817_0_L2A_rededge3.tif\n",
      "100%|██████████| 60.2M/60.2M [00:05<00:00, 11.9MB/s]\n"
     ]
    },
    {
     "name": "stdout",
     "output_type": "stream",
     "text": [
      "https://sentinel-cogs.s3.us-west-2.amazonaws.com/sentinel-s2-l2a-cogs/14/S/PC/2023/8/S2A_14SPC_20230817_0_L2A/SCL.tif\n"
     ]
    },
    {
     "name": "stderr",
     "output_type": "stream",
     "text": [
      "Downloading...\n",
      "From: https://sentinel-cogs.s3.us-west-2.amazonaws.com/sentinel-s2-l2a-cogs/14/S/PC/2023/8/S2A_14SPC_20230817_0_L2A/SCL.tif\n",
      "To: /Users/sebastian/Locals/CDP/src/cdp-mapping-systems/Data/stac/dallas/S2A_14SPC_20230817_0_L2A_scl.tif\n",
      "100%|██████████| 4.26M/4.26M [00:01<00:00, 4.10MB/s]\n"
     ]
    },
    {
     "name": "stdout",
     "output_type": "stream",
     "text": [
      "https://sentinel-cogs.s3.us-west-2.amazonaws.com/sentinel-s2-l2a-cogs/14/S/PC/2023/8/S2A_14SPC_20230817_0_L2A/B11.tif\n"
     ]
    },
    {
     "name": "stderr",
     "output_type": "stream",
     "text": [
      "Downloading...\n",
      "From: https://sentinel-cogs.s3.us-west-2.amazonaws.com/sentinel-s2-l2a-cogs/14/S/PC/2023/8/S2A_14SPC_20230817_0_L2A/B11.tif\n",
      "To: /Users/sebastian/Locals/CDP/src/cdp-mapping-systems/Data/stac/dallas/S2A_14SPC_20230817_0_L2A_swir16.tif\n",
      "100%|██████████| 62.0M/62.0M [00:07<00:00, 8.44MB/s]\n"
     ]
    },
    {
     "name": "stdout",
     "output_type": "stream",
     "text": [
      "https://sentinel-cogs.s3.us-west-2.amazonaws.com/sentinel-s2-l2a-cogs/14/S/PC/2023/8/S2A_14SPC_20230817_0_L2A/B12.tif\n"
     ]
    },
    {
     "name": "stderr",
     "output_type": "stream",
     "text": [
      "Downloading...\n",
      "From: https://sentinel-cogs.s3.us-west-2.amazonaws.com/sentinel-s2-l2a-cogs/14/S/PC/2023/8/S2A_14SPC_20230817_0_L2A/B12.tif\n",
      "To: /Users/sebastian/Locals/CDP/src/cdp-mapping-systems/Data/stac/dallas/S2A_14SPC_20230817_0_L2A_swir22.tif\n",
      "100%|██████████| 61.5M/61.5M [00:05<00:00, 12.0MB/s]\n"
     ]
    },
    {
     "name": "stdout",
     "output_type": "stream",
     "text": [
      "https://sentinel-cogs.s3.us-west-2.amazonaws.com/sentinel-s2-l2a-cogs/14/S/PC/2023/8/S2A_14SPC_20230817_0_L2A/TCI.tif\n"
     ]
    },
    {
     "name": "stderr",
     "output_type": "stream",
     "text": [
      "Downloading...\n",
      "From: https://sentinel-cogs.s3.us-west-2.amazonaws.com/sentinel-s2-l2a-cogs/14/S/PC/2023/8/S2A_14SPC_20230817_0_L2A/TCI.tif\n",
      "To: /Users/sebastian/Locals/CDP/src/cdp-mapping-systems/Data/stac/dallas/S2A_14SPC_20230817_0_L2A_visual.tif\n",
      "100%|██████████| 340M/340M [00:35<00:00, 9.68MB/s] \n"
     ]
    },
    {
     "name": "stdout",
     "output_type": "stream",
     "text": [
      "https://sentinel-cogs.s3.us-west-2.amazonaws.com/sentinel-s2-l2a-cogs/14/S/PC/2023/8/S2A_14SPC_20230817_0_L2A/WVP.tif\n"
     ]
    },
    {
     "name": "stderr",
     "output_type": "stream",
     "text": [
      "Downloading...\n",
      "From: https://sentinel-cogs.s3.us-west-2.amazonaws.com/sentinel-s2-l2a-cogs/14/S/PC/2023/8/S2A_14SPC_20230817_0_L2A/WVP.tif\n",
      "To: /Users/sebastian/Locals/CDP/src/cdp-mapping-systems/Data/stac/dallas/S2A_14SPC_20230817_0_L2A_wvp.tif\n",
      "100%|██████████| 95.8M/95.8M [00:32<00:00, 2.98MB/s]\n"
     ]
    },
    {
     "name": "stdout",
     "output_type": "stream",
     "text": [
      "https://sentinel-cogs.s3.us-west-2.amazonaws.com/sentinel-s2-l2a-cogs/14/S/PB/2023/8/S2A_14SPB_20230814_0_L2A/AOT.tif\n"
     ]
    },
    {
     "name": "stderr",
     "output_type": "stream",
     "text": [
      "Downloading...\n",
      "From: https://sentinel-cogs.s3.us-west-2.amazonaws.com/sentinel-s2-l2a-cogs/14/S/PB/2023/8/S2A_14SPB_20230814_0_L2A/AOT.tif\n",
      "To: /Users/sebastian/Locals/CDP/src/cdp-mapping-systems/Data/stac/dallas/S2A_14SPB_20230814_0_L2A_aot.tif\n",
      "100%|██████████| 111k/111k [00:00<00:00, 565kB/s]\n"
     ]
    },
    {
     "name": "stdout",
     "output_type": "stream",
     "text": [
      "https://sentinel-cogs.s3.us-west-2.amazonaws.com/sentinel-s2-l2a-cogs/14/S/PB/2023/8/S2A_14SPB_20230814_0_L2A/B02.tif\n"
     ]
    },
    {
     "name": "stderr",
     "output_type": "stream",
     "text": [
      "Downloading...\n",
      "From: https://sentinel-cogs.s3.us-west-2.amazonaws.com/sentinel-s2-l2a-cogs/14/S/PB/2023/8/S2A_14SPB_20230814_0_L2A/B02.tif\n",
      "To: /Users/sebastian/Locals/CDP/src/cdp-mapping-systems/Data/stac/dallas/S2A_14SPB_20230814_0_L2A_blue.tif\n",
      "100%|██████████| 89.4M/89.4M [00:08<00:00, 10.7MB/s]\n"
     ]
    },
    {
     "name": "stdout",
     "output_type": "stream",
     "text": [
      "https://sentinel-cogs.s3.us-west-2.amazonaws.com/sentinel-s2-l2a-cogs/14/S/PB/2023/8/S2A_14SPB_20230814_0_L2A/B01.tif\n"
     ]
    },
    {
     "name": "stderr",
     "output_type": "stream",
     "text": [
      "Downloading...\n",
      "From: https://sentinel-cogs.s3.us-west-2.amazonaws.com/sentinel-s2-l2a-cogs/14/S/PB/2023/8/S2A_14SPB_20230814_0_L2A/B01.tif\n",
      "To: /Users/sebastian/Locals/CDP/src/cdp-mapping-systems/Data/stac/dallas/S2A_14SPB_20230814_0_L2A_coastal.tif\n",
      "100%|██████████| 2.52M/2.52M [00:00<00:00, 4.63MB/s]\n"
     ]
    },
    {
     "name": "stdout",
     "output_type": "stream",
     "text": [
      "https://sentinel-cogs.s3.us-west-2.amazonaws.com/sentinel-s2-l2a-cogs/14/S/PB/2023/8/S2A_14SPB_20230814_0_L2A/B03.tif\n"
     ]
    },
    {
     "name": "stderr",
     "output_type": "stream",
     "text": [
      "Downloading...\n",
      "From: https://sentinel-cogs.s3.us-west-2.amazonaws.com/sentinel-s2-l2a-cogs/14/S/PB/2023/8/S2A_14SPB_20230814_0_L2A/B03.tif\n",
      "To: /Users/sebastian/Locals/CDP/src/cdp-mapping-systems/Data/stac/dallas/S2A_14SPB_20230814_0_L2A_green.tif\n",
      "100%|██████████| 88.8M/88.8M [00:06<00:00, 13.1MB/s]\n"
     ]
    },
    {
     "name": "stdout",
     "output_type": "stream",
     "text": [
      "https://sentinel-cogs.s3.us-west-2.amazonaws.com/sentinel-s2-l2a-cogs/14/S/PB/2023/8/S2A_14SPB_20230814_0_L2A/B08.tif\n"
     ]
    },
    {
     "name": "stderr",
     "output_type": "stream",
     "text": [
      "Downloading...\n",
      "From: https://sentinel-cogs.s3.us-west-2.amazonaws.com/sentinel-s2-l2a-cogs/14/S/PB/2023/8/S2A_14SPB_20230814_0_L2A/B08.tif\n",
      "To: /Users/sebastian/Locals/CDP/src/cdp-mapping-systems/Data/stac/dallas/S2A_14SPB_20230814_0_L2A_nir.tif\n",
      "100%|██████████| 87.4M/87.4M [00:13<00:00, 6.29MB/s]\n"
     ]
    },
    {
     "name": "stdout",
     "output_type": "stream",
     "text": [
      "https://sentinel-cogs.s3.us-west-2.amazonaws.com/sentinel-s2-l2a-cogs/14/S/PB/2023/8/S2A_14SPB_20230814_0_L2A/B8A.tif\n"
     ]
    },
    {
     "name": "stderr",
     "output_type": "stream",
     "text": [
      "Downloading...\n",
      "From: https://sentinel-cogs.s3.us-west-2.amazonaws.com/sentinel-s2-l2a-cogs/14/S/PB/2023/8/S2A_14SPB_20230814_0_L2A/B8A.tif\n",
      "To: /Users/sebastian/Locals/CDP/src/cdp-mapping-systems/Data/stac/dallas/S2A_14SPB_20230814_0_L2A_nir08.tif\n",
      "100%|██████████| 23.6M/23.6M [00:04<00:00, 5.07MB/s]\n"
     ]
    },
    {
     "name": "stdout",
     "output_type": "stream",
     "text": [
      "https://sentinel-cogs.s3.us-west-2.amazonaws.com/sentinel-s2-l2a-cogs/14/S/PB/2023/8/S2A_14SPB_20230814_0_L2A/B09.tif\n"
     ]
    },
    {
     "name": "stderr",
     "output_type": "stream",
     "text": [
      "Downloading...\n",
      "From: https://sentinel-cogs.s3.us-west-2.amazonaws.com/sentinel-s2-l2a-cogs/14/S/PB/2023/8/S2A_14SPB_20230814_0_L2A/B09.tif\n",
      "To: /Users/sebastian/Locals/CDP/src/cdp-mapping-systems/Data/stac/dallas/S2A_14SPB_20230814_0_L2A_nir09.tif\n",
      "100%|██████████| 2.65M/2.65M [00:00<00:00, 4.06MB/s]\n"
     ]
    },
    {
     "name": "stdout",
     "output_type": "stream",
     "text": [
      "https://sentinel-cogs.s3.us-west-2.amazonaws.com/sentinel-s2-l2a-cogs/14/S/PB/2023/8/S2A_14SPB_20230814_0_L2A/B04.tif\n"
     ]
    },
    {
     "name": "stderr",
     "output_type": "stream",
     "text": [
      "Downloading...\n",
      "From: https://sentinel-cogs.s3.us-west-2.amazonaws.com/sentinel-s2-l2a-cogs/14/S/PB/2023/8/S2A_14SPB_20230814_0_L2A/B04.tif\n",
      "To: /Users/sebastian/Locals/CDP/src/cdp-mapping-systems/Data/stac/dallas/S2A_14SPB_20230814_0_L2A_red.tif\n",
      "100%|██████████| 90.4M/90.4M [00:23<00:00, 3.92MB/s]\n"
     ]
    },
    {
     "name": "stdout",
     "output_type": "stream",
     "text": [
      "https://sentinel-cogs.s3.us-west-2.amazonaws.com/sentinel-s2-l2a-cogs/14/S/PB/2023/8/S2A_14SPB_20230814_0_L2A/B05.tif\n"
     ]
    },
    {
     "name": "stderr",
     "output_type": "stream",
     "text": [
      "Downloading...\n",
      "From: https://sentinel-cogs.s3.us-west-2.amazonaws.com/sentinel-s2-l2a-cogs/14/S/PB/2023/8/S2A_14SPB_20230814_0_L2A/B05.tif\n",
      "To: /Users/sebastian/Locals/CDP/src/cdp-mapping-systems/Data/stac/dallas/S2A_14SPB_20230814_0_L2A_rededge1.tif\n",
      "100%|██████████| 23.6M/23.6M [00:01<00:00, 11.9MB/s]\n"
     ]
    },
    {
     "name": "stdout",
     "output_type": "stream",
     "text": [
      "https://sentinel-cogs.s3.us-west-2.amazonaws.com/sentinel-s2-l2a-cogs/14/S/PB/2023/8/S2A_14SPB_20230814_0_L2A/B06.tif\n"
     ]
    },
    {
     "name": "stderr",
     "output_type": "stream",
     "text": [
      "Downloading...\n",
      "From: https://sentinel-cogs.s3.us-west-2.amazonaws.com/sentinel-s2-l2a-cogs/14/S/PB/2023/8/S2A_14SPB_20230814_0_L2A/B06.tif\n",
      "To: /Users/sebastian/Locals/CDP/src/cdp-mapping-systems/Data/stac/dallas/S2A_14SPB_20230814_0_L2A_rededge2.tif\n",
      "100%|██████████| 23.4M/23.4M [00:01<00:00, 14.0MB/s]\n"
     ]
    },
    {
     "name": "stdout",
     "output_type": "stream",
     "text": [
      "https://sentinel-cogs.s3.us-west-2.amazonaws.com/sentinel-s2-l2a-cogs/14/S/PB/2023/8/S2A_14SPB_20230814_0_L2A/B07.tif\n"
     ]
    },
    {
     "name": "stderr",
     "output_type": "stream",
     "text": [
      "Downloading...\n",
      "From: https://sentinel-cogs.s3.us-west-2.amazonaws.com/sentinel-s2-l2a-cogs/14/S/PB/2023/8/S2A_14SPB_20230814_0_L2A/B07.tif\n",
      "To: /Users/sebastian/Locals/CDP/src/cdp-mapping-systems/Data/stac/dallas/S2A_14SPB_20230814_0_L2A_rededge3.tif\n",
      "100%|██████████| 23.5M/23.5M [00:02<00:00, 10.7MB/s]\n"
     ]
    },
    {
     "name": "stdout",
     "output_type": "stream",
     "text": [
      "https://sentinel-cogs.s3.us-west-2.amazonaws.com/sentinel-s2-l2a-cogs/14/S/PB/2023/8/S2A_14SPB_20230814_0_L2A/SCL.tif\n"
     ]
    },
    {
     "name": "stderr",
     "output_type": "stream",
     "text": [
      "Downloading...\n",
      "From: https://sentinel-cogs.s3.us-west-2.amazonaws.com/sentinel-s2-l2a-cogs/14/S/PB/2023/8/S2A_14SPB_20230814_0_L2A/SCL.tif\n",
      "To: /Users/sebastian/Locals/CDP/src/cdp-mapping-systems/Data/stac/dallas/S2A_14SPB_20230814_0_L2A_scl.tif\n",
      "100%|██████████| 1.82M/1.82M [00:00<00:00, 3.44MB/s]\n"
     ]
    },
    {
     "name": "stdout",
     "output_type": "stream",
     "text": [
      "https://sentinel-cogs.s3.us-west-2.amazonaws.com/sentinel-s2-l2a-cogs/14/S/PB/2023/8/S2A_14SPB_20230814_0_L2A/B11.tif\n"
     ]
    },
    {
     "name": "stderr",
     "output_type": "stream",
     "text": [
      "Downloading...\n",
      "From: https://sentinel-cogs.s3.us-west-2.amazonaws.com/sentinel-s2-l2a-cogs/14/S/PB/2023/8/S2A_14SPB_20230814_0_L2A/B11.tif\n",
      "To: /Users/sebastian/Locals/CDP/src/cdp-mapping-systems/Data/stac/dallas/S2A_14SPB_20230814_0_L2A_swir16.tif\n",
      "100%|██████████| 23.6M/23.6M [00:02<00:00, 9.71MB/s]\n"
     ]
    },
    {
     "name": "stdout",
     "output_type": "stream",
     "text": [
      "https://sentinel-cogs.s3.us-west-2.amazonaws.com/sentinel-s2-l2a-cogs/14/S/PB/2023/8/S2A_14SPB_20230814_0_L2A/B12.tif\n"
     ]
    },
    {
     "name": "stderr",
     "output_type": "stream",
     "text": [
      "Downloading...\n",
      "From: https://sentinel-cogs.s3.us-west-2.amazonaws.com/sentinel-s2-l2a-cogs/14/S/PB/2023/8/S2A_14SPB_20230814_0_L2A/B12.tif\n",
      "To: /Users/sebastian/Locals/CDP/src/cdp-mapping-systems/Data/stac/dallas/S2A_14SPB_20230814_0_L2A_swir22.tif\n",
      "100%|██████████| 23.5M/23.5M [00:03<00:00, 6.19MB/s]\n"
     ]
    },
    {
     "name": "stdout",
     "output_type": "stream",
     "text": [
      "https://sentinel-cogs.s3.us-west-2.amazonaws.com/sentinel-s2-l2a-cogs/14/S/PB/2023/8/S2A_14SPB_20230814_0_L2A/TCI.tif\n"
     ]
    },
    {
     "name": "stderr",
     "output_type": "stream",
     "text": [
      "Downloading...\n",
      "From: https://sentinel-cogs.s3.us-west-2.amazonaws.com/sentinel-s2-l2a-cogs/14/S/PB/2023/8/S2A_14SPB_20230814_0_L2A/TCI.tif\n",
      "To: /Users/sebastian/Locals/CDP/src/cdp-mapping-systems/Data/stac/dallas/S2A_14SPB_20230814_0_L2A_visual.tif\n",
      "100%|██████████| 144M/144M [00:17<00:00, 8.08MB/s] \n"
     ]
    },
    {
     "name": "stdout",
     "output_type": "stream",
     "text": [
      "https://sentinel-cogs.s3.us-west-2.amazonaws.com/sentinel-s2-l2a-cogs/14/S/PB/2023/8/S2A_14SPB_20230814_0_L2A/WVP.tif\n"
     ]
    },
    {
     "name": "stderr",
     "output_type": "stream",
     "text": [
      "Downloading...\n",
      "From: https://sentinel-cogs.s3.us-west-2.amazonaws.com/sentinel-s2-l2a-cogs/14/S/PB/2023/8/S2A_14SPB_20230814_0_L2A/WVP.tif\n",
      "To: /Users/sebastian/Locals/CDP/src/cdp-mapping-systems/Data/stac/dallas/S2A_14SPB_20230814_0_L2A_wvp.tif\n",
      "100%|██████████| 37.4M/37.4M [00:04<00:00, 8.92MB/s]\n"
     ]
    }
   ],
   "source": [
    "download_stac_layers(\n",
    "    search_gdf2_list,\n",
    "    \"../Data/stac/dallas\",\n",
    ")"
   ]
  },
  {
   "cell_type": "code",
   "execution_count": 22,
   "metadata": {},
   "outputs": [],
   "source": [
    "# mosaic files based on band name\n",
    "\n",
    "\n",
    "def mosaic_by_band(\n",
    "    dir,\n",
    "    bands: list = [\n",
    "        \"red\",\n",
    "        \"blue\",\n",
    "        \"green\",\n",
    "        \"nir\",\n",
    "        \"coastal\",\n",
    "        \"nir08\",\n",
    "        \"nir09\",\n",
    "        \"rededge1\",\n",
    "        \"rededge2\",\n",
    "        \"rededge3\",\n",
    "        \"scl\",\n",
    "        \"swir16\",\n",
    "        \"swir22\",\n",
    "    ],\n",
    "    crs: str = None,\n",
    "):\n",
    "    mosaics = {}\n",
    "    for band in bands:\n",
    "        files = glob.glob(f\"{dir}/*{band}.tif\")\n",
    "\n",
    "        out_file = f\"{dir}/mosaic_{band}_.tif\"\n",
    "        raster_data = [rio.open(f) for f in files]\n",
    "\n",
    "        mosaic, out_trans = merge(raster_data)\n",
    "        out_meta = raster_data[0].meta.copy()\n",
    "        out_meta.update(\n",
    "            {\n",
    "                \"driver\": \"GTiff\",\n",
    "                \"height\": mosaic.shape[1],\n",
    "                \"width\": mosaic.shape[2],\n",
    "                \"transform\": out_trans,\n",
    "                \"crs\": f\"epsg:{crs}\",\n",
    "            }\n",
    "        )\n",
    "\n",
    "        with rio.open(out_file, \"w\", **out_meta) as dest:\n",
    "            dest.write(mosaic)\n",
    "\n",
    "        mosaics[band] = out_file\n",
    "\n",
    "    return mosaics"
   ]
  },
  {
   "cell_type": "code",
   "execution_count": 82,
   "metadata": {},
   "outputs": [],
   "source": [
    "mosaic_bands_all = mosaic_by_band(\"../Data/stac/dallas\", crs=stac_crs)"
   ]
  },
  {
   "cell_type": "code",
   "execution_count": 83,
   "metadata": {},
   "outputs": [
    {
     "data": {
      "text/plain": [
       "{'red': '../Data/stac/dallas/mosaic_red_.tif',\n",
       " 'blue': '../Data/stac/dallas/mosaic_blue_.tif',\n",
       " 'green': '../Data/stac/dallas/mosaic_green_.tif',\n",
       " 'nir': '../Data/stac/dallas/mosaic_nir_.tif',\n",
       " 'coastal': '../Data/stac/dallas/mosaic_coastal_.tif',\n",
       " 'nir08': '../Data/stac/dallas/mosaic_nir08_.tif',\n",
       " 'nir09': '../Data/stac/dallas/mosaic_nir09_.tif',\n",
       " 'rededge1': '../Data/stac/dallas/mosaic_rededge1_.tif',\n",
       " 'rededge2': '../Data/stac/dallas/mosaic_rededge2_.tif',\n",
       " 'rededge3': '../Data/stac/dallas/mosaic_rededge3_.tif',\n",
       " 'scl': '../Data/stac/dallas/mosaic_scl_.tif',\n",
       " 'swir16': '../Data/stac/dallas/mosaic_swir16_.tif',\n",
       " 'swir22': '../Data/stac/dallas/mosaic_swir22_.tif'}"
      ]
     },
     "execution_count": 83,
     "metadata": {},
     "output_type": "execute_result"
    }
   ],
   "source": [
    "mosaic_bands_all"
   ]
  },
  {
   "cell_type": "code",
   "execution_count": 84,
   "metadata": {},
   "outputs": [],
   "source": [
    "nir = rio.open(mosaic_bands_all[\"nir\"]).read(1).astype(\"float32\")\n",
    "red = rio.open(mosaic_bands_all[\"red\"]).read(1).astype(\"float32\")"
   ]
  },
  {
   "cell_type": "markdown",
   "metadata": {},
   "source": [
    "### calculate NDVI\n"
   ]
  },
  {
   "cell_type": "code",
   "execution_count": 85,
   "metadata": {},
   "outputs": [],
   "source": [
    "ndvi = (nir - red) / (nir + red)"
   ]
  },
  {
   "cell_type": "code",
   "execution_count": 86,
   "metadata": {},
   "outputs": [],
   "source": [
    "import numpy as np"
   ]
  },
  {
   "cell_type": "code",
   "execution_count": 87,
   "metadata": {},
   "outputs": [],
   "source": [
    "# fill nan with -2, outside of the range but not so far outside\n",
    "ndvi[np.isnan(ndvi)] = -1.1"
   ]
  },
  {
   "cell_type": "code",
   "execution_count": 88,
   "metadata": {},
   "outputs": [
    {
     "data": {
      "text/plain": [
       "array([[ 0.29466358,  0.29466358,  0.29466358, ...,  0.7092271 ,\n",
       "         0.74426687,  0.7527933 ],\n",
       "       [ 0.29466358,  0.29466358,  0.29466358, ...,  0.7364234 ,\n",
       "         0.74245054,  0.7497386 ],\n",
       "       [ 0.29466358,  0.29466358,  0.29466358, ...,  0.73943174,\n",
       "         0.7601683 ,  0.7583187 ],\n",
       "       ...,\n",
       "       [-1.1       , -1.1       , -1.1       , ...,  0.5210166 ,\n",
       "         0.5251938 ,  0.52691287],\n",
       "       [-1.1       , -1.1       , -1.1       , ...,  0.5256534 ,\n",
       "         0.5219512 ,  0.527027  ],\n",
       "       [-1.1       , -1.1       , -1.1       , ...,  0.5274831 ,\n",
       "         0.5170035 ,  0.5154512 ]], dtype=float32)"
      ]
     },
     "execution_count": 88,
     "metadata": {},
     "output_type": "execute_result"
    }
   ],
   "source": [
    "ndvi"
   ]
  },
  {
   "cell_type": "code",
   "execution_count": 89,
   "metadata": {},
   "outputs": [],
   "source": [
    "ndvi_mult = ndvi * 10  # to be able to visualize more easily"
   ]
  },
  {
   "cell_type": "code",
   "execution_count": 90,
   "metadata": {},
   "outputs": [
    {
     "data": {
      "text/plain": [
       "array([[  2.9466357,   2.9466357,   2.9466357, ...,   7.092271 ,\n",
       "          7.442669 ,   7.527933 ],\n",
       "       [  2.9466357,   2.9466357,   2.9466357, ...,   7.364234 ,\n",
       "          7.424505 ,   7.497386 ],\n",
       "       [  2.9466357,   2.9466357,   2.9466357, ...,   7.3943176,\n",
       "          7.601683 ,   7.583187 ],\n",
       "       ...,\n",
       "       [-11.       , -11.       , -11.       , ...,   5.210166 ,\n",
       "          5.251938 ,   5.269129 ],\n",
       "       [-11.       , -11.       , -11.       , ...,   5.256534 ,\n",
       "          5.219512 ,   5.2702703],\n",
       "       [-11.       , -11.       , -11.       , ...,   5.274831 ,\n",
       "          5.170035 ,   5.154512 ]], dtype=float32)"
      ]
     },
     "execution_count": 90,
     "metadata": {},
     "output_type": "execute_result"
    }
   ],
   "source": [
    "ndvi_mult"
   ]
  },
  {
   "cell_type": "code",
   "execution_count": 91,
   "metadata": {},
   "outputs": [],
   "source": [
    "ndvi_image = leafmap.array_to_image(ndvi, source=mosaic_bands_all[\"nir\"])"
   ]
  },
  {
   "cell_type": "code",
   "execution_count": 92,
   "metadata": {},
   "outputs": [],
   "source": [
    "ndvi_multi_image = leafmap.array_to_image(ndvi_mult, source=mosaic_bands_all[\"nir\"])"
   ]
  },
  {
   "cell_type": "code",
   "execution_count": 93,
   "metadata": {},
   "outputs": [
    {
     "data": {
      "application/vnd.jupyter.widget-view+json": {
       "model_id": "0367ff7498264b818999fb38b88b7000",
       "version_major": 2,
       "version_minor": 0
      },
      "text/plain": [
       "Map(center=[33.371449, -96.78545], controls=(ZoomControl(options=['position', 'zoom_in_text', 'zoom_in_title',…"
      ]
     },
     "execution_count": 93,
     "metadata": {},
     "output_type": "execute_result"
    }
   ],
   "source": [
    "m = leafmap.Map()\n",
    "m.add_raster(ndvi_multi_image, layer_name=\"NDVI\", vmin=-10, vmax=10, cmap=\"PiYG\")\n",
    "m"
   ]
  },
  {
   "cell_type": "code",
   "execution_count": 94,
   "metadata": {},
   "outputs": [
    {
     "data": {
      "text/plain": [
       "(array([1.0000000e+00, 1.0000000e+00, 0.0000000e+00, 1.0000000e+00,\n",
       "        0.0000000e+00, 0.0000000e+00, 2.3000000e+01, 7.8000000e+01,\n",
       "        2.7100000e+02, 2.1460000e+03, 3.3220000e+03, 5.5480000e+03,\n",
       "        1.5063000e+04, 2.7147000e+04, 4.4026000e+04, 4.8865000e+04,\n",
       "        5.7105000e+04, 6.5323000e+04, 7.5734000e+04, 9.1559000e+04,\n",
       "        1.0657500e+05, 1.0776800e+05, 1.1918700e+05, 1.3630700e+05,\n",
       "        1.4185100e+05, 1.3659100e+05, 1.3755500e+05, 1.4939500e+05,\n",
       "        1.4998600e+05, 1.6229200e+05, 1.8042100e+05, 1.9719700e+05,\n",
       "        2.1710700e+05, 2.4077100e+05, 2.3864400e+05, 2.2989300e+05,\n",
       "        2.4493000e+05, 2.5559900e+05, 2.6571200e+05, 2.9084000e+05,\n",
       "        2.5476400e+05, 2.7414000e+05, 1.8136300e+05, 1.2628900e+05,\n",
       "        1.3871000e+05, 2.3778600e+05, 2.7278400e+05, 2.8469300e+05,\n",
       "        3.4029300e+05, 4.1201700e+05, 4.3521900e+05, 5.5092800e+05,\n",
       "        5.4062300e+05, 7.8737200e+05, 9.1841500e+05, 1.1680870e+06,\n",
       "        1.7715880e+06, 2.2654820e+06, 2.8485920e+06, 3.5967290e+06,\n",
       "        5.1277720e+06, 7.4690100e+06, 1.0423725e+07, 1.3583003e+07,\n",
       "        1.5909972e+07, 1.6419153e+07, 1.6817057e+07, 1.7926277e+07,\n",
       "        1.8205868e+07, 1.8430949e+07, 1.9080318e+07, 1.9247364e+07,\n",
       "        1.9050938e+07, 1.8049633e+07, 1.7312964e+07, 1.5851516e+07,\n",
       "        1.3724201e+07, 1.2263994e+07, 1.0187454e+07, 8.7198760e+06,\n",
       "        7.0059510e+06, 5.9717580e+06, 5.1247600e+06, 4.2483130e+06,\n",
       "        3.8138640e+06, 3.7210520e+06, 3.5980920e+06, 4.0143040e+06,\n",
       "        4.9747200e+06, 6.2937330e+06, 6.5621080e+06, 3.5066850e+06,\n",
       "        6.2728500e+05, 5.9226000e+04, 9.0610000e+03, 2.2600000e+02,\n",
       "        1.5000000e+01, 8.0000000e+00, 6.0000000e+00, 2.6400000e+02]),\n",
       " array([-9.97638702e-01, -9.77668643e-01, -9.57698524e-01, -9.37728465e-01,\n",
       "        -9.17758346e-01, -8.97788286e-01, -8.77818227e-01, -8.57848108e-01,\n",
       "        -8.37878048e-01, -8.17907929e-01, -7.97937870e-01, -7.77967751e-01,\n",
       "        -7.57997692e-01, -7.38027632e-01, -7.18057513e-01, -6.98087454e-01,\n",
       "        -6.78117335e-01, -6.58147275e-01, -6.38177216e-01, -6.18207097e-01,\n",
       "        -5.98237038e-01, -5.78266919e-01, -5.58296859e-01, -5.38326800e-01,\n",
       "        -5.18356681e-01, -4.98386621e-01, -4.78416532e-01, -4.58446443e-01,\n",
       "        -4.38476354e-01, -4.18506265e-01, -3.98536175e-01, -3.78566116e-01,\n",
       "        -3.58596027e-01, -3.38625938e-01, -3.18655849e-01, -2.98685759e-01,\n",
       "        -2.78715670e-01, -2.58745611e-01, -2.38775522e-01, -2.18805432e-01,\n",
       "        -1.98835343e-01, -1.78865269e-01, -1.58895180e-01, -1.38925090e-01,\n",
       "        -1.18955016e-01, -9.89849269e-02, -7.90148452e-02, -5.90447634e-02,\n",
       "        -3.90746780e-02, -1.91045944e-02,  8.65489244e-04,  2.08355729e-02,\n",
       "         4.08056565e-02,  6.07757419e-02,  8.07458237e-02,  1.00715905e-01,\n",
       "         1.20685995e-01,  1.40656069e-01,  1.60626158e-01,  1.80596247e-01,\n",
       "         2.00566322e-01,  2.20536411e-01,  2.40506500e-01,  2.60476589e-01,\n",
       "         2.80446649e-01,  3.00416738e-01,  3.20386827e-01,  3.40356916e-01,\n",
       "         3.60327005e-01,  3.80297095e-01,  4.00267154e-01,  4.20237243e-01,\n",
       "         4.40207332e-01,  4.60177422e-01,  4.80147511e-01,  5.00117600e-01,\n",
       "         5.20087659e-01,  5.40057778e-01,  5.60027838e-01,  5.79997897e-01,\n",
       "         5.99968016e-01,  6.19938076e-01,  6.39908195e-01,  6.59878254e-01,\n",
       "         6.79848313e-01,  6.99818432e-01,  7.19788492e-01,  7.39758611e-01,\n",
       "         7.59728670e-01,  7.79698730e-01,  7.99668849e-01,  8.19638908e-01,\n",
       "         8.39609027e-01,  8.59579086e-01,  8.79549205e-01,  8.99519265e-01,\n",
       "         9.19489324e-01,  9.39459443e-01,  9.59429502e-01,  9.79399621e-01,\n",
       "         9.99369681e-01]),\n",
       " <BarContainer object of 100 artists>)"
      ]
     },
     "execution_count": 94,
     "metadata": {},
     "output_type": "execute_result"
    },
    {
     "data": {
      "image/png": "[encoded data removed]",
      "text/plain": [
       "<Figure size 640x480 with 1 Axes>"
      ]
     },
     "metadata": {},
     "output_type": "display_data"
    }
   ],
   "source": [
    "# get histogram of ndvi image values\n",
    "\n",
    "import matplotlib.pyplot as plt\n",
    "\n",
    "plt.hist(ndvi[ndvi != -1.1].ravel(), bins=100, color=\"red\", alpha=0.7)"
   ]
  },
  {
   "cell_type": "code",
   "execution_count": 95,
   "metadata": {},
   "outputs": [],
   "source": [
    "def categorize_np_array(array):\n",
    "\n",
    "    cat_array = np.zeros(array.shape)\n",
    "    cat_array[array < 1] = 5\n",
    "    cat_array[array < 0.8] = 4\n",
    "    cat_array[array < 0.6] = 3\n",
    "    cat_array[array < 0.4] = 2\n",
    "    cat_array[array < 0.2] = 1\n",
    "\n",
    "    return cat_array"
   ]
  },
  {
   "cell_type": "code",
   "execution_count": 96,
   "metadata": {},
   "outputs": [],
   "source": [
    "cat_ndvi = categorize_np_array(ndvi)"
   ]
  },
  {
   "cell_type": "code",
   "execution_count": 97,
   "metadata": {},
   "outputs": [
    {
     "data": {
      "text/plain": [
       "array([[2., 2., 2., ..., 4., 4., 4.],\n",
       "       [2., 2., 2., ..., 4., 4., 4.],\n",
       "       [2., 2., 2., ..., 4., 4., 4.],\n",
       "       ...,\n",
       "       [1., 1., 1., ..., 3., 3., 3.],\n",
       "       [1., 1., 1., ..., 3., 3., 3.],\n",
       "       [1., 1., 1., ..., 3., 3., 3.]])"
      ]
     },
     "execution_count": 97,
     "metadata": {},
     "output_type": "execute_result"
    }
   ],
   "source": [
    "cat_ndvi"
   ]
  },
  {
   "cell_type": "code",
   "execution_count": 98,
   "metadata": {},
   "outputs": [],
   "source": [
    "ndvi_image_cat = leafmap.array_to_image(cat_ndvi, source=mosaic_bands_all[\"nir\"])"
   ]
  },
  {
   "cell_type": "code",
   "execution_count": 99,
   "metadata": {},
   "outputs": [
    {
     "data": {
      "application/vnd.jupyter.widget-view+json": {
       "model_id": "fd84106954fe40058a8e234f88509df9",
       "version_major": 2,
       "version_minor": 0
      },
      "text/plain": [
       "Map(center=[33.371449, -96.78545], controls=(ZoomControl(options=['position', 'zoom_in_text', 'zoom_in_title',…"
      ]
     },
     "execution_count": 99,
     "metadata": {},
     "output_type": "execute_result"
    }
   ],
   "source": [
    "m = leafmap.Map()\n",
    "m.add_raster(\n",
    "    ndvi_image_cat, layer_name=\"NDVI\", vmin=1, vmax=5, cmap=\"Set1\", draw_control=False\n",
    ")\n",
    "m.add_colormap(\n",
    "    \"Set1\",\n",
    "    label=\"ndvi\",\n",
    "    width=8.0,\n",
    "    height=0.4,\n",
    "    orientation=\"horizontal\",\n",
    "    vmin=1,\n",
    "    vmax=5,\n",
    ")\n",
    "\n",
    "m"
   ]
  },
  {
   "cell_type": "markdown",
   "metadata": {},
   "source": [
    "## k-means\n"
   ]
  },
  {
   "cell_type": "code",
   "execution_count": 100,
   "metadata": {},
   "outputs": [],
   "source": [
    "def resample_raster(in_file, out_file, upscale_factor=0.5):\n",
    "    with rio.open(in_file) as dataset:\n",
    "\n",
    "        # resample data to target shape\n",
    "        data = dataset.read(\n",
    "            out_shape=(\n",
    "                dataset.count,\n",
    "                int(dataset.height * upscale_factor),\n",
    "                int(dataset.width * upscale_factor),\n",
    "            ),\n",
    "            resampling=rio.enums.Resampling.bilinear,\n",
    "        )\n",
    "\n",
    "        # scale image transform\n",
    "        transform = dataset.transform * dataset.transform.scale(\n",
    "            (dataset.width / data.shape[-1]), (dataset.height / data.shape[-2])\n",
    "        )\n",
    "\n",
    "        # update metadata\n",
    "        meta = dataset.meta.copy()\n",
    "        meta.update(\n",
    "            {\n",
    "                \"height\": data.shape[1],\n",
    "                \"width\": data.shape[2],\n",
    "                \"transform\": transform,\n",
    "            }\n",
    "        )\n",
    "\n",
    "        with rio.open(out_file, \"w\", **meta) as dst:\n",
    "            dst.write(data)"
   ]
  },
  {
   "cell_type": "code",
   "execution_count": 101,
   "metadata": {},
   "outputs": [
    {
     "name": "stdout",
     "output_type": "stream",
     "text": [
      "red (20982, 20976)\n",
      "blue (20982, 20976)\n",
      "green (20982, 20976)\n",
      "nir (20982, 20976)\n",
      "coastal (3497, 3496)\n",
      "nir08 (10491, 10488)\n",
      "nir09 (3497, 3496)\n",
      "rededge1 (10491, 10488)\n",
      "rededge2 (10491, 10488)\n",
      "rededge3 (10491, 10488)\n",
      "scl (10491, 10488)\n",
      "swir16 (10491, 10488)\n",
      "swir22 (10491, 10488)\n"
     ]
    }
   ],
   "source": [
    "for band in mosaic_bands_all.keys():\n",
    "    print(band, rio.open(mosaic_bands_all[band]).read(1).shape)"
   ]
  },
  {
   "cell_type": "code",
   "execution_count": 107,
   "metadata": {},
   "outputs": [],
   "source": [
    "# set resampling ratio for each band- note that some are higher resolution than others and need a different scaling factor\n",
    "bands_to_resample = {\n",
    "    \"red\": 0.25,\n",
    "    \"blue\": 0.25,\n",
    "    \"green\": 0.25,\n",
    "    \"nir\": 0.25,\n",
    "    \"nir08\": 0.5,\n",
    "    \"rededge1\": 0.5,\n",
    "    \"rededge2\": 0.5,\n",
    "    \"rededge3\": 0.5,\n",
    "    \"scl\": 0.5,\n",
    "    \"swir16\": 0.5,\n",
    "    \"swir22\": 0.5,\n",
    "}"
   ]
  },
  {
   "cell_type": "code",
   "execution_count": 108,
   "metadata": {},
   "outputs": [],
   "source": [
    "# resample the bands so they are all smaller and uniform\n",
    "for band, ratio in bands_to_resample.items():\n",
    "    resample_raster(\n",
    "        mosaic_bands_all[band], f\"../Data/stac/dallas/upscaled_{band}.tif\", ratio\n",
    "    )\n",
    "    mosaic_bands_all[f\"{band}\"] = f\"../Data/stac/dallas/upscaled_{band}.tif\""
   ]
  },
  {
   "cell_type": "code",
   "execution_count": 109,
   "metadata": {},
   "outputs": [
    {
     "data": {
      "text/plain": [
       "{'red': '../Data/stac/dallas/upscaled_red.tif',\n",
       " 'blue': '../Data/stac/dallas/upscaled_blue.tif',\n",
       " 'green': '../Data/stac/dallas/upscaled_green.tif',\n",
       " 'nir': '../Data/stac/dallas/upscaled_nir.tif',\n",
       " 'coastal': '../Data/stac/dallas/mosaic_coastal_.tif',\n",
       " 'nir08': '../Data/stac/dallas/upscaled_nir08.tif',\n",
       " 'nir09': '../Data/stac/dallas/mosaic_nir09_.tif',\n",
       " 'rededge1': '../Data/stac/dallas/upscaled_rededge1.tif',\n",
       " 'rededge2': '../Data/stac/dallas/upscaled_rededge2.tif',\n",
       " 'rededge3': '../Data/stac/dallas/upscaled_rededge3.tif',\n",
       " 'scl': '../Data/stac/dallas/upscaled_scl.tif',\n",
       " 'swir16': '../Data/stac/dallas/upscaled_swir16.tif',\n",
       " 'swir22': '../Data/stac/dallas/upscaled_swir22.tif'}"
      ]
     },
     "execution_count": 109,
     "metadata": {},
     "output_type": "execute_result"
    }
   ],
   "source": [
    "mosaic_bands_all"
   ]
  },
  {
   "cell_type": "code",
   "execution_count": 110,
   "metadata": {},
   "outputs": [],
   "source": [
    "# create a new dict with all bands excpct coastal\n",
    "mosaic_bands_all_no_coastal = {\n",
    "    k: v for k, v in mosaic_bands_all.items() if k not in [\"coastal\", \"nir09\"]\n",
    "}"
   ]
  },
  {
   "cell_type": "code",
   "execution_count": 111,
   "metadata": {},
   "outputs": [
    {
     "name": "stdout",
     "output_type": "stream",
     "text": [
      "red (5245, 5244)\n",
      "blue (5245, 5244)\n",
      "green (5245, 5244)\n",
      "nir (5245, 5244)\n",
      "nir08 (5245, 5244)\n",
      "rededge1 (5245, 5244)\n",
      "rededge2 (5245, 5244)\n",
      "rededge3 (5245, 5244)\n",
      "scl (5245, 5244)\n",
      "swir16 (5245, 5244)\n",
      "swir22 (5245, 5244)\n"
     ]
    }
   ],
   "source": [
    "for band in mosaic_bands_all_no_coastal.keys():\n",
    "    print(band, rio.open(mosaic_bands_all_no_coastal[band]).read(1).shape)\n",
    "\n",
    "mosaic_bands_all_no_coastal = np.stack(\n",
    "    [\n",
    "        rio.open(mosaic_bands_all_no_coastal[band]).read(1)\n",
    "        for band in mosaic_bands_all_no_coastal.keys()\n",
    "    ],\n",
    "    axis=-1,\n",
    ")"
   ]
  },
  {
   "cell_type": "code",
   "execution_count": 112,
   "metadata": {},
   "outputs": [],
   "source": [
    "reshaped_img = reshape_as_image(mosaic_bands_all_no_coastal)"
   ]
  },
  {
   "cell_type": "code",
   "execution_count": 113,
   "metadata": {},
   "outputs": [
    {
     "data": {
      "text/plain": [
       "(5244, 11, 5245)"
      ]
     },
     "execution_count": 113,
     "metadata": {},
     "output_type": "execute_result"
    }
   ],
   "source": [
    "reshaped_img.shape"
   ]
  },
  {
   "cell_type": "code",
   "execution_count": 114,
   "metadata": {},
   "outputs": [
    {
     "data": {
      "text/plain": [
       "(5245, 5244, 11)"
      ]
     },
     "execution_count": 114,
     "metadata": {},
     "output_type": "execute_result"
    }
   ],
   "source": [
    "mosaic_bands_all_no_coastal.shape"
   ]
  },
  {
   "cell_type": "code",
   "execution_count": 115,
   "metadata": {},
   "outputs": [],
   "source": [
    "from sklearn.cluster import KMeans\n",
    "\n",
    "rows, cols, bands = mosaic_bands_all_no_coastal.shape\n",
    "\n",
    "k = 10  # num of clusters\n",
    "\n",
    "kmeans_predictions = KMeans(n_clusters=k, random_state=0).fit(\n",
    "    mosaic_bands_all_no_coastal.reshape(rows * cols, bands)\n",
    ")\n",
    "\n",
    "kmeans_predictions_2d = kmeans_predictions.labels_.reshape(rows, cols)"
   ]
  },
  {
   "cell_type": "code",
   "execution_count": 116,
   "metadata": {},
   "outputs": [
    {
     "data": {
      "application/vnd.jupyter.widget-view+json": {
       "model_id": "5d7a4f4407f24332bca9a294ba617b01",
       "version_major": 2,
       "version_minor": 0
      },
      "text/plain": [
       "Map(center=[33.371449, -96.78545], controls=(ZoomControl(options=['position', 'zoom_in_text', 'zoom_in_title',…"
      ]
     },
     "execution_count": 116,
     "metadata": {},
     "output_type": "execute_result"
    }
   ],
   "source": [
    "# plot prediction results\n",
    "\n",
    "m = leafmap.Map()\n",
    "m.add_raster(\n",
    "    leafmap.array_to_image(kmeans_predictions_2d, source=mosaic_bands_all[\"red\"]),\n",
    "    layer_name=\"KMeans\",\n",
    "    colormap=\"Set1\",\n",
    "    draw_control=False,\n",
    ")\n",
    "\n",
    "# add a legend\n",
    "m.add_colormap(\n",
    "    \"Set1\",\n",
    "    label=\"KMeans\",\n",
    "    width=8.0,\n",
    "    height=0.4,\n",
    "    orientation=\"horizontal\",\n",
    "    vmin=0,\n",
    "    vmax=9,\n",
    ")\n",
    "\n",
    "m"
   ]
  }
 ],
 "metadata": {
  "kernelspec": {
   "display_name": "cdp",
   "language": "python",
   "name": "python3"
  },
  "language_info": {
   "codemirror_mode": {
    "name": "ipython",
    "version": 3
   },
   "file_extension": ".py",
   "mimetype": "text/x-python",
   "name": "python",
   "nbconvert_exporter": "python",
   "pygments_lexer": "ipython3",
   "version": "3.11.9"
  }
 },
 "nbformat": 4,
 "nbformat_minor": 2
}
